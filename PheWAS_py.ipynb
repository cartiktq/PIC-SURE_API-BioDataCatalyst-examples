{
 "cells": [
  {
   "cell_type": "markdown",
   "metadata": {},
   "source": [
    "# Phenome-Wide analysis on COPDgene data: python PIC-SURE API use-case"
   ]
  },
  {
   "cell_type": "markdown",
   "metadata": {},
   "source": [
    "This notebook is an illustration example of how to use the python **PIC-SURE API** to select and query data from an HPDS-hosted database. It takes as use-case a simple PheWAS analysis. This notebook is intentionally straightforward, without too much explanation. For a more in depth introduction to the python PIC-SURE API, please see the `PICSURE-API_101_PheWAS_example.ipynb` Notebook."
   ]
  },
  {
   "cell_type": "markdown",
   "metadata": {},
   "source": [
    "**Before running this notebook, please be sure to get an user-specific authentication token. For more information on how to proceed, see the `HPDS_connection.ipynb` notebook**"
   ]
  },
  {
   "cell_type": "markdown",
   "metadata": {},
   "source": [
    "# Environment set-up"
   ]
  },
  {
   "cell_type": "markdown",
   "metadata": {},
   "source": [
    "### System requirements\n",
    "- Python 3.6 or later\n",
    "- pip & bash interpreter"
   ]
  },
  {
   "cell_type": "markdown",
   "metadata": {},
   "source": [
    "### Installation of external dependencies"
   ]
  },
  {
   "cell_type": "code",
   "execution_count": 1,
   "metadata": {
    "collapsed": true,
    "jupyter": {
     "outputs_hidden": true
    }
   },
   "outputs": [
    {
     "name": "stdout",
     "output_type": "stream",
     "text": [
      "Collecting git+https://github.com/hms-dbmi/pic-sure-python-adapter-hpds.git (from -r requirements.txt (line 7))\n",
      "  Cloning https://github.com/hms-dbmi/pic-sure-python-adapter-hpds.git to /private/var/folders/hm/wn0bpy0j7vl2q9gqnhhccpph0000gn/T/pip-req-build-w6vtxw65\n",
      "  Running command git clone -q https://github.com/hms-dbmi/pic-sure-python-adapter-hpds.git /private/var/folders/hm/wn0bpy0j7vl2q9gqnhhccpph0000gn/T/pip-req-build-w6vtxw65\n",
      "Requirement already satisfied (use --upgrade to upgrade): PicSureHpdsLib==0.9.0 from git+https://github.com/hms-dbmi/pic-sure-python-adapter-hpds.git in /Users/Arnaud/miniconda3/lib/python3.7/site-packages (from -r requirements.txt (line 7))\n",
      "Collecting git+https://github.com/hms-dbmi/pic-sure-python-client.git (from -r requirements.txt (line 8))\n",
      "  Cloning https://github.com/hms-dbmi/pic-sure-python-client.git to /private/var/folders/hm/wn0bpy0j7vl2q9gqnhhccpph0000gn/T/pip-req-build-pwfiq6kk\n",
      "  Running command git clone -q https://github.com/hms-dbmi/pic-sure-python-client.git /private/var/folders/hm/wn0bpy0j7vl2q9gqnhhccpph0000gn/T/pip-req-build-pwfiq6kk\n",
      "Requirement already satisfied (use --upgrade to upgrade): PicSureClient==0.1.0 from git+https://github.com/hms-dbmi/pic-sure-python-client.git in /Users/Arnaud/miniconda3/lib/python3.7/site-packages (from -r requirements.txt (line 8))\n",
      "Requirement already satisfied: numpy>=1.17.3 in /Users/Arnaud/miniconda3/lib/python3.7/site-packages (from -r requirements.txt (line 1)) (1.17.3)\n",
      "Requirement already satisfied: matplotlib>=3.1.1 in /Users/Arnaud/miniconda3/lib/python3.7/site-packages (from -r requirements.txt (line 2)) (3.1.1)\n",
      "Requirement already satisfied: pandas>=0.25.3 in /Users/Arnaud/miniconda3/lib/python3.7/site-packages (from -r requirements.txt (line 3)) (0.25.3)\n",
      "Requirement already satisfied: scipy>=1.3.1 in /Users/Arnaud/miniconda3/lib/python3.7/site-packages (from -r requirements.txt (line 4)) (1.3.1)\n",
      "Requirement already satisfied: tqdm>=4.38.0 in /Users/Arnaud/miniconda3/lib/python3.7/site-packages (from -r requirements.txt (line 5)) (4.38.0)\n",
      "Requirement already satisfied: statsmodels>=0.10.2 in /Users/Arnaud/miniconda3/lib/python3.7/site-packages (from -r requirements.txt (line 6)) (0.10.2)\n",
      "Requirement already satisfied: httplib2 in /Users/Arnaud/miniconda3/lib/python3.7/site-packages (from PicSureHpdsLib==0.9.0->-r requirements.txt (line 7)) (0.14.0)\n",
      "Requirement already satisfied: cycler>=0.10 in /Users/Arnaud/miniconda3/lib/python3.7/site-packages (from matplotlib>=3.1.1->-r requirements.txt (line 2)) (0.10.0)\n",
      "Requirement already satisfied: kiwisolver>=1.0.1 in /Users/Arnaud/miniconda3/lib/python3.7/site-packages (from matplotlib>=3.1.1->-r requirements.txt (line 2)) (1.1.0)\n",
      "Requirement already satisfied: pyparsing!=2.0.4,!=2.1.2,!=2.1.6,>=2.0.1 in /Users/Arnaud/miniconda3/lib/python3.7/site-packages (from matplotlib>=3.1.1->-r requirements.txt (line 2)) (2.4.5)\n",
      "Requirement already satisfied: python-dateutil>=2.1 in /Users/Arnaud/miniconda3/lib/python3.7/site-packages (from matplotlib>=3.1.1->-r requirements.txt (line 2)) (2.8.1)\n",
      "Requirement already satisfied: pytz>=2017.2 in /Users/Arnaud/miniconda3/lib/python3.7/site-packages (from pandas>=0.25.3->-r requirements.txt (line 3)) (2019.3)\n",
      "Requirement already satisfied: patsy>=0.4.0 in /Users/Arnaud/miniconda3/lib/python3.7/site-packages (from statsmodels>=0.10.2->-r requirements.txt (line 6)) (0.5.1)\n",
      "Requirement already satisfied: six in /Users/Arnaud/miniconda3/lib/python3.7/site-packages (from cycler>=0.10->matplotlib>=3.1.1->-r requirements.txt (line 2)) (1.12.0)\n",
      "Requirement already satisfied: setuptools in /Users/Arnaud/miniconda3/lib/python3.7/site-packages (from kiwisolver>=1.0.1->matplotlib>=3.1.1->-r requirements.txt (line 2)) (41.0.0)\n",
      "Building wheels for collected packages: PicSureHpdsLib, PicSureClient\n",
      "  Building wheel for PicSureHpdsLib (setup.py) ... \u001b[?25ldone\n",
      "\u001b[?25h  Created wheel for PicSureHpdsLib: filename=PicSureHpdsLib-0.9.0-py2.py3-none-any.whl size=17132 sha256=334c69df1e9dd0ca7a24364785ec95fd3affceb543e0f41819b1fdd7bb2495cd\n",
      "  Stored in directory: /private/var/folders/hm/wn0bpy0j7vl2q9gqnhhccpph0000gn/T/pip-ephem-wheel-cache-5umdmggh/wheels/6c/ac/12/4d142709d83e0bdd96c661e183f2dcbb0e03f90e98e5ac256e\n",
      "  Building wheel for PicSureClient (setup.py) ... \u001b[?25ldone\n",
      "\u001b[?25h  Created wheel for PicSureClient: filename=PicSureClient-0.1.0-py2.py3-none-any.whl size=8616 sha256=708508b253b88f6113a835a472fff6a13a456f12c0d931d35b941407a9b62d1f\n",
      "  Stored in directory: /private/var/folders/hm/wn0bpy0j7vl2q9gqnhhccpph0000gn/T/pip-ephem-wheel-cache-5umdmggh/wheels/b4/c1/d9/744d4e1c1ba5f0c5d847deba1a7c8f96f47d4b36c610dda114\n",
      "Successfully built PicSureHpdsLib PicSureClient\n"
     ]
    }
   ],
   "source": [
    "%%capture\n",
    "!pip install -r requirements.txt"
   ]
  },
  {
   "cell_type": "code",
   "execution_count": 2,
   "metadata": {},
   "outputs": [],
   "source": [
    "import json\n",
    "from pprint import pprint\n",
    "\n",
    "import pandas as pd\n",
    "import numpy as np \n",
    "import matplotlib.pyplot as plt\n",
    "from scipy import stats\n",
    "\n",
    "import PicSureHpdsLib\n",
    "import PicSureClient\n",
    "\n",
    "from python_lib.utils import get_multiIndex_variablesTable, get_dic_renaming_vars, match_dummies_to_varNames, joining_variablesTable_onCol\n",
    "from python_lib.HPDS_connection_manager import tokenManager"
   ]
  },
  {
   "cell_type": "code",
   "execution_count": 3,
   "metadata": {},
   "outputs": [
    {
     "name": "stdout",
     "output_type": "stream",
     "text": [
      "NB: This Jupyter Notebook has been written using PIC-SURE API following versions:\n",
      "- PicSureHpdsLib: 1.1.0\n",
      "- PicSureClient: 0.1.0\n",
      "The PIC-SURE API libraries versions you've been downloading are:\n",
      "- PicSureHpdsLib: 1.1.0\n",
      "- PicSureClient: 0.1.0\n"
     ]
    }
   ],
   "source": [
    "print(\"NB: This Jupyter Notebook has been written using PIC-SURE API following versions:\\n- PicSureHpdsLib: 1.1.0\\n- PicSureClient: 0.1.0\")\n",
    "print(\"The PIC-SURE API libraries versions you've been downloading are:\\n- PicSureHpdsLib: {0}\\n- PicSureClient: {1}\".format(PicSureHpdsLib.__version__, PicSureClient.__version__))"
   ]
  },
  {
   "cell_type": "code",
   "execution_count": 4,
   "metadata": {},
   "outputs": [],
   "source": [
    "# Pandas DataFrame display options\n",
    "pd.set_option(\"max.rows\", 435)\n",
    "\n",
    "# Matplotlib display parameters\n",
    "fig_size = plt.rcParams[\"figure.figsize\"]\n",
    "fig_size[0] = 14\n",
    "fig_size[1] = 8\n",
    "plt.rcParams[\"figure.figsize\"] = fig_size\n",
    "font = {'weight' : 'bold',\n",
    "        'size'   : 12}\n",
    "plt.rc('font', **font)"
   ]
  },
  {
   "cell_type": "markdown",
   "metadata": {},
   "source": [
    "## Connecting to a PIC-SURE network"
   ]
  },
  {
   "cell_type": "code",
   "execution_count": 5,
   "metadata": {},
   "outputs": [],
   "source": [
    "# BioDataCatalyst\n",
    "PICSURE_network_URL = \"https://biodatacatalyst.integration.hms.harvard.edu/picsure\"\n",
    "resource_id = \"02e23f52-f354-4e8b-992c-d37c8b9ba140\"\n",
    "token_file = \"token.txt\""
   ]
  },
  {
   "cell_type": "code",
   "execution_count": 6,
   "metadata": {},
   "outputs": [
    {
     "name": "stdout",
     "output_type": "stream",
     "text": [
      "\u001b[32m\n",
      "Security Token Imported Correctly\n"
     ]
    }
   ],
   "source": [
    "token = tokenManager(token_file).get_token()"
   ]
  },
  {
   "cell_type": "code",
   "execution_count": 7,
   "metadata": {},
   "outputs": [],
   "source": [
    "client = PicSureClient.Client()\n",
    "connection = client.connect(PICSURE_network_URL, token, allowSelfSignedSSL=True)\n",
    "adapter = PicSureHpdsLib.Adapter(connection)\n",
    "resource = adapter.useResource(resource_id)"
   ]
  },
  {
   "cell_type": "markdown",
   "metadata": {},
   "source": [
    "## PheWAS analysis"
   ]
  },
  {
   "cell_type": "markdown",
   "metadata": {},
   "source": [
    "In a nutshell, this PheWAS analysis follows those following steps:\n",
    "- Retrieving the variables dictionary, using the PIC-SURE API dedicated methods\n",
    "- From the info provided by the dictionary, retrieving the desired variables and individuals in an exploitable format through PIC-SURE API calls\n",
    "- Data management\n",
    "- Running univariate tests against every phenotypes variable\n",
    "- Accounting for multiple hypotheses testing issue\n",
    "- Plotting the results\n",
    "\n",
    "\n",
    "This analysis is conducted using on individuals enrolled in the COPDGene Study. Overall goal of this cohort is to detect underlying genetic factors to develop Chronic Obstructive Pulmonary Disease (COPD), and currently includes more than 10,000 individuals ([more information on COPDGene Study](http://www.copdgene.org))."
   ]
  },
  {
   "cell_type": "markdown",
   "metadata": {},
   "source": [
    "### 1. Retrieving variables dictionary from HPDS Database"
   ]
  },
  {
   "cell_type": "code",
   "execution_count": 8,
   "metadata": {},
   "outputs": [],
   "source": [
    "plain_variablesDict = resource.dictionary().find(\"Genetic Epidemiology of COPD (COPDGene)\").DataFrame()"
   ]
  },
  {
   "cell_type": "code",
   "execution_count": 9,
   "metadata": {},
   "outputs": [
    {
     "data": {
      "text/html": [
       "<div>\n",
       "<style scoped>\n",
       "    .dataframe tbody tr th:only-of-type {\n",
       "        vertical-align: middle;\n",
       "    }\n",
       "\n",
       "    .dataframe tbody tr th {\n",
       "        vertical-align: top;\n",
       "    }\n",
       "\n",
       "    .dataframe thead th {\n",
       "        text-align: right;\n",
       "    }\n",
       "</style>\n",
       "<table border=\"1\" class=\"dataframe\">\n",
       "  <thead>\n",
       "    <tr style=\"text-align: right;\">\n",
       "      <th></th>\n",
       "      <th></th>\n",
       "      <th></th>\n",
       "      <th></th>\n",
       "      <th></th>\n",
       "      <th></th>\n",
       "      <th>simplified_varName</th>\n",
       "      <th>varName</th>\n",
       "      <th>observationCount</th>\n",
       "      <th>categorical</th>\n",
       "      <th>categoryValues</th>\n",
       "      <th>min</th>\n",
       "      <th>max</th>\n",
       "      <th>HpdsDataType</th>\n",
       "    </tr>\n",
       "  </thead>\n",
       "  <tbody>\n",
       "    <tr>\n",
       "      <th rowspan=\"10\" valign=\"top\">Genetic Epidemiology of COPD (COPDGene)</th>\n",
       "      <th rowspan=\"10\" valign=\"top\">Subject Phenotype</th>\n",
       "      <th rowspan=\"6\" valign=\"top\">6MinWalk</th>\n",
       "      <th>Six minute walk: was your walking limited?</th>\n",
       "      <th>NaN</th>\n",
       "      <th>NaN</th>\n",
       "      <td>Six minute walk: was your walking limited?</td>\n",
       "      <td>\\Genetic Epidemiology of COPD (COPDGene)\\Subje...</td>\n",
       "      <td>10090</td>\n",
       "      <td>True</td>\n",
       "      <td>[No, Yes]</td>\n",
       "      <td>NaN</td>\n",
       "      <td>NaN</td>\n",
       "      <td>phenotypes</td>\n",
       "    </tr>\n",
       "    <tr>\n",
       "      <th>Supplemental O2 used during 6-min walk L/min</th>\n",
       "      <th>NaN</th>\n",
       "      <th>NaN</th>\n",
       "      <td>Supplemental O2 used during 6-min walk L/min</td>\n",
       "      <td>\\Genetic Epidemiology of COPD (COPDGene)\\Subje...</td>\n",
       "      <td>10089</td>\n",
       "      <td>False</td>\n",
       "      <td>None</td>\n",
       "      <td>0.0000</td>\n",
       "      <td>1.500000e+01</td>\n",
       "      <td>phenotypes</td>\n",
       "    </tr>\n",
       "    <tr>\n",
       "      <th>Walk symptoms: back pain</th>\n",
       "      <th>NaN</th>\n",
       "      <th>NaN</th>\n",
       "      <td>Walk symptoms: back pain</td>\n",
       "      <td>\\Genetic Epidemiology of COPD (COPDGene)\\Subje...</td>\n",
       "      <td>3688</td>\n",
       "      <td>True</td>\n",
       "      <td>[Checked (multiple-response), No]</td>\n",
       "      <td>NaN</td>\n",
       "      <td>NaN</td>\n",
       "      <td>phenotypes</td>\n",
       "    </tr>\n",
       "    <tr>\n",
       "      <th>Walk symptoms: joint pain</th>\n",
       "      <th>NaN</th>\n",
       "      <th>NaN</th>\n",
       "      <td>Walk symptoms: joint pain</td>\n",
       "      <td>\\Genetic Epidemiology of COPD (COPDGene)\\Subje...</td>\n",
       "      <td>3688</td>\n",
       "      <td>True</td>\n",
       "      <td>[Checked (multiple-response), No]</td>\n",
       "      <td>NaN</td>\n",
       "      <td>NaN</td>\n",
       "      <td>phenotypes</td>\n",
       "    </tr>\n",
       "    <tr>\n",
       "      <th>Walk symptoms: leg discomfort/fatigue</th>\n",
       "      <th>NaN</th>\n",
       "      <th>NaN</th>\n",
       "      <td>Walk symptoms: leg discomfort/fatigue</td>\n",
       "      <td>\\Genetic Epidemiology of COPD (COPDGene)\\Subje...</td>\n",
       "      <td>3688</td>\n",
       "      <td>True</td>\n",
       "      <td>[Checked (multiple-response), No]</td>\n",
       "      <td>NaN</td>\n",
       "      <td>NaN</td>\n",
       "      <td>phenotypes</td>\n",
       "    </tr>\n",
       "    <tr>\n",
       "      <th>Walk symptoms: shortness of breath</th>\n",
       "      <th>NaN</th>\n",
       "      <th>NaN</th>\n",
       "      <td>Walk symptoms: shortness of breath</td>\n",
       "      <td>\\Genetic Epidemiology of COPD (COPDGene)\\Subje...</td>\n",
       "      <td>3688</td>\n",
       "      <td>True</td>\n",
       "      <td>[Checked (multiple-response), No]</td>\n",
       "      <td>NaN</td>\n",
       "      <td>NaN</td>\n",
       "      <td>phenotypes</td>\n",
       "    </tr>\n",
       "    <tr>\n",
       "      <th rowspan=\"4\" valign=\"top\">CT Acquisition Parameters</th>\n",
       "      <th rowspan=\"3\" valign=\"top\">CT Scanner</th>\n",
       "      <th>CT scan final approval</th>\n",
       "      <th>NaN</th>\n",
       "      <td>CT scan final approval</td>\n",
       "      <td>\\Genetic Epidemiology of COPD (COPDGene)\\Subje...</td>\n",
       "      <td>9865</td>\n",
       "      <td>True</td>\n",
       "      <td>[No, Yes]</td>\n",
       "      <td>NaN</td>\n",
       "      <td>NaN</td>\n",
       "      <td>phenotypes</td>\n",
       "    </tr>\n",
       "    <tr>\n",
       "      <th>CT scanner</th>\n",
       "      <th>NaN</th>\n",
       "      <td>CT scanner</td>\n",
       "      <td>\\Genetic Epidemiology of COPD (COPDGene)\\Subje...</td>\n",
       "      <td>10</td>\n",
       "      <td>False</td>\n",
       "      <td>None</td>\n",
       "      <td>0.0000</td>\n",
       "      <td>4.940656e-324</td>\n",
       "      <td>phenotypes</td>\n",
       "    </tr>\n",
       "    <tr>\n",
       "      <th>Siemens sensation-64 flag</th>\n",
       "      <th>NaN</th>\n",
       "      <td>Siemens sensation-64 flag</td>\n",
       "      <td>\\Genetic Epidemiology of COPD (COPDGene)\\Subje...</td>\n",
       "      <td>9865</td>\n",
       "      <td>False</td>\n",
       "      <td>None</td>\n",
       "      <td>0.0000</td>\n",
       "      <td>1.000000e+00</td>\n",
       "      <td>phenotypes</td>\n",
       "    </tr>\n",
       "    <tr>\n",
       "      <th>CT Slicer</th>\n",
       "      <th>Exp Mean Atten / Insp Mean Atten ratio CT Slicer</th>\n",
       "      <th>NaN</th>\n",
       "      <td>Exp Mean Atten / Insp Mean Atten ratio CT Slicer</td>\n",
       "      <td>\\Genetic Epidemiology of COPD (COPDGene)\\Subje...</td>\n",
       "      <td>8276</td>\n",
       "      <td>False</td>\n",
       "      <td>None</td>\n",
       "      <td>0.6366</td>\n",
       "      <td>1.109200e+00</td>\n",
       "      <td>phenotypes</td>\n",
       "    </tr>\n",
       "  </tbody>\n",
       "</table>\n",
       "</div>"
      ],
      "text/plain": [
       "                                                                                                                                                                                                                     simplified_varName  \\\n",
       "Genetic Epidemiology of COPD (COPDGene) Subject Phenotype 6MinWalk                  Six minute walk: was your walking limited?   NaN                                              NaN        Six minute walk: was your walking limited?   \n",
       "                                                                                    Supplemental O2 used during 6-min walk L/min NaN                                              NaN      Supplemental O2 used during 6-min walk L/min   \n",
       "                                                                                    Walk symptoms: back pain                     NaN                                              NaN                          Walk symptoms: back pain   \n",
       "                                                                                    Walk symptoms: joint pain                    NaN                                              NaN                         Walk symptoms: joint pain   \n",
       "                                                                                    Walk symptoms: leg discomfort/fatigue        NaN                                              NaN             Walk symptoms: leg discomfort/fatigue   \n",
       "                                                                                    Walk symptoms: shortness of breath           NaN                                              NaN                Walk symptoms: shortness of breath   \n",
       "                                                          CT Acquisition Parameters CT Scanner                                   CT scan final approval                           NaN                            CT scan final approval   \n",
       "                                                                                                                                 CT scanner                                       NaN                                        CT scanner   \n",
       "                                                                                                                                 Siemens sensation-64 flag                        NaN                         Siemens sensation-64 flag   \n",
       "                                                                                    CT Slicer                                    Exp Mean Atten / Insp Mean Atten ratio CT Slicer NaN  Exp Mean Atten / Insp Mean Atten ratio CT Slicer   \n",
       "\n",
       "                                                                                                                                                                                                                                 varName  \\\n",
       "Genetic Epidemiology of COPD (COPDGene) Subject Phenotype 6MinWalk                  Six minute walk: was your walking limited?   NaN                                              NaN  \\Genetic Epidemiology of COPD (COPDGene)\\Subje...   \n",
       "                                                                                    Supplemental O2 used during 6-min walk L/min NaN                                              NaN  \\Genetic Epidemiology of COPD (COPDGene)\\Subje...   \n",
       "                                                                                    Walk symptoms: back pain                     NaN                                              NaN  \\Genetic Epidemiology of COPD (COPDGene)\\Subje...   \n",
       "                                                                                    Walk symptoms: joint pain                    NaN                                              NaN  \\Genetic Epidemiology of COPD (COPDGene)\\Subje...   \n",
       "                                                                                    Walk symptoms: leg discomfort/fatigue        NaN                                              NaN  \\Genetic Epidemiology of COPD (COPDGene)\\Subje...   \n",
       "                                                                                    Walk symptoms: shortness of breath           NaN                                              NaN  \\Genetic Epidemiology of COPD (COPDGene)\\Subje...   \n",
       "                                                          CT Acquisition Parameters CT Scanner                                   CT scan final approval                           NaN  \\Genetic Epidemiology of COPD (COPDGene)\\Subje...   \n",
       "                                                                                                                                 CT scanner                                       NaN  \\Genetic Epidemiology of COPD (COPDGene)\\Subje...   \n",
       "                                                                                                                                 Siemens sensation-64 flag                        NaN  \\Genetic Epidemiology of COPD (COPDGene)\\Subje...   \n",
       "                                                                                    CT Slicer                                    Exp Mean Atten / Insp Mean Atten ratio CT Slicer NaN  \\Genetic Epidemiology of COPD (COPDGene)\\Subje...   \n",
       "\n",
       "                                                                                                                                                                                       observationCount  \\\n",
       "Genetic Epidemiology of COPD (COPDGene) Subject Phenotype 6MinWalk                  Six minute walk: was your walking limited?   NaN                                              NaN             10090   \n",
       "                                                                                    Supplemental O2 used during 6-min walk L/min NaN                                              NaN             10089   \n",
       "                                                                                    Walk symptoms: back pain                     NaN                                              NaN              3688   \n",
       "                                                                                    Walk symptoms: joint pain                    NaN                                              NaN              3688   \n",
       "                                                                                    Walk symptoms: leg discomfort/fatigue        NaN                                              NaN              3688   \n",
       "                                                                                    Walk symptoms: shortness of breath           NaN                                              NaN              3688   \n",
       "                                                          CT Acquisition Parameters CT Scanner                                   CT scan final approval                           NaN              9865   \n",
       "                                                                                                                                 CT scanner                                       NaN                10   \n",
       "                                                                                                                                 Siemens sensation-64 flag                        NaN              9865   \n",
       "                                                                                    CT Slicer                                    Exp Mean Atten / Insp Mean Atten ratio CT Slicer NaN              8276   \n",
       "\n",
       "                                                                                                                                                                                       categorical  \\\n",
       "Genetic Epidemiology of COPD (COPDGene) Subject Phenotype 6MinWalk                  Six minute walk: was your walking limited?   NaN                                              NaN         True   \n",
       "                                                                                    Supplemental O2 used during 6-min walk L/min NaN                                              NaN        False   \n",
       "                                                                                    Walk symptoms: back pain                     NaN                                              NaN         True   \n",
       "                                                                                    Walk symptoms: joint pain                    NaN                                              NaN         True   \n",
       "                                                                                    Walk symptoms: leg discomfort/fatigue        NaN                                              NaN         True   \n",
       "                                                                                    Walk symptoms: shortness of breath           NaN                                              NaN         True   \n",
       "                                                          CT Acquisition Parameters CT Scanner                                   CT scan final approval                           NaN         True   \n",
       "                                                                                                                                 CT scanner                                       NaN        False   \n",
       "                                                                                                                                 Siemens sensation-64 flag                        NaN        False   \n",
       "                                                                                    CT Slicer                                    Exp Mean Atten / Insp Mean Atten ratio CT Slicer NaN        False   \n",
       "\n",
       "                                                                                                                                                                                                          categoryValues  \\\n",
       "Genetic Epidemiology of COPD (COPDGene) Subject Phenotype 6MinWalk                  Six minute walk: was your walking limited?   NaN                                              NaN                          [No, Yes]   \n",
       "                                                                                    Supplemental O2 used during 6-min walk L/min NaN                                              NaN                               None   \n",
       "                                                                                    Walk symptoms: back pain                     NaN                                              NaN  [Checked (multiple-response), No]   \n",
       "                                                                                    Walk symptoms: joint pain                    NaN                                              NaN  [Checked (multiple-response), No]   \n",
       "                                                                                    Walk symptoms: leg discomfort/fatigue        NaN                                              NaN  [Checked (multiple-response), No]   \n",
       "                                                                                    Walk symptoms: shortness of breath           NaN                                              NaN  [Checked (multiple-response), No]   \n",
       "                                                          CT Acquisition Parameters CT Scanner                                   CT scan final approval                           NaN                          [No, Yes]   \n",
       "                                                                                                                                 CT scanner                                       NaN                               None   \n",
       "                                                                                                                                 Siemens sensation-64 flag                        NaN                               None   \n",
       "                                                                                    CT Slicer                                    Exp Mean Atten / Insp Mean Atten ratio CT Slicer NaN                               None   \n",
       "\n",
       "                                                                                                                                                                                          min  \\\n",
       "Genetic Epidemiology of COPD (COPDGene) Subject Phenotype 6MinWalk                  Six minute walk: was your walking limited?   NaN                                              NaN     NaN   \n",
       "                                                                                    Supplemental O2 used during 6-min walk L/min NaN                                              NaN  0.0000   \n",
       "                                                                                    Walk symptoms: back pain                     NaN                                              NaN     NaN   \n",
       "                                                                                    Walk symptoms: joint pain                    NaN                                              NaN     NaN   \n",
       "                                                                                    Walk symptoms: leg discomfort/fatigue        NaN                                              NaN     NaN   \n",
       "                                                                                    Walk symptoms: shortness of breath           NaN                                              NaN     NaN   \n",
       "                                                          CT Acquisition Parameters CT Scanner                                   CT scan final approval                           NaN     NaN   \n",
       "                                                                                                                                 CT scanner                                       NaN  0.0000   \n",
       "                                                                                                                                 Siemens sensation-64 flag                        NaN  0.0000   \n",
       "                                                                                    CT Slicer                                    Exp Mean Atten / Insp Mean Atten ratio CT Slicer NaN  0.6366   \n",
       "\n",
       "                                                                                                                                                                                                 max  \\\n",
       "Genetic Epidemiology of COPD (COPDGene) Subject Phenotype 6MinWalk                  Six minute walk: was your walking limited?   NaN                                              NaN            NaN   \n",
       "                                                                                    Supplemental O2 used during 6-min walk L/min NaN                                              NaN   1.500000e+01   \n",
       "                                                                                    Walk symptoms: back pain                     NaN                                              NaN            NaN   \n",
       "                                                                                    Walk symptoms: joint pain                    NaN                                              NaN            NaN   \n",
       "                                                                                    Walk symptoms: leg discomfort/fatigue        NaN                                              NaN            NaN   \n",
       "                                                                                    Walk symptoms: shortness of breath           NaN                                              NaN            NaN   \n",
       "                                                          CT Acquisition Parameters CT Scanner                                   CT scan final approval                           NaN            NaN   \n",
       "                                                                                                                                 CT scanner                                       NaN  4.940656e-324   \n",
       "                                                                                                                                 Siemens sensation-64 flag                        NaN   1.000000e+00   \n",
       "                                                                                    CT Slicer                                    Exp Mean Atten / Insp Mean Atten ratio CT Slicer NaN   1.109200e+00   \n",
       "\n",
       "                                                                                                                                                                                      HpdsDataType  \n",
       "Genetic Epidemiology of COPD (COPDGene) Subject Phenotype 6MinWalk                  Six minute walk: was your walking limited?   NaN                                              NaN   phenotypes  \n",
       "                                                                                    Supplemental O2 used during 6-min walk L/min NaN                                              NaN   phenotypes  \n",
       "                                                                                    Walk symptoms: back pain                     NaN                                              NaN   phenotypes  \n",
       "                                                                                    Walk symptoms: joint pain                    NaN                                              NaN   phenotypes  \n",
       "                                                                                    Walk symptoms: leg discomfort/fatigue        NaN                                              NaN   phenotypes  \n",
       "                                                                                    Walk symptoms: shortness of breath           NaN                                              NaN   phenotypes  \n",
       "                                                          CT Acquisition Parameters CT Scanner                                   CT scan final approval                           NaN   phenotypes  \n",
       "                                                                                                                                 CT scanner                                       NaN   phenotypes  \n",
       "                                                                                                                                 Siemens sensation-64 flag                        NaN   phenotypes  \n",
       "                                                                                    CT Slicer                                    Exp Mean Atten / Insp Mean Atten ratio CT Slicer NaN   phenotypes  "
      ]
     },
     "execution_count": 9,
     "metadata": {},
     "output_type": "execute_result"
    }
   ],
   "source": [
    "variablesDict = get_multiIndex_variablesTable(plain_variablesDict)\n",
    "variablesDict.iloc[10:20,:]"
   ]
  },
  {
   "cell_type": "markdown",
   "metadata": {},
   "source": [
    "### 2. Selecting variables and retrieving data from HPDS"
   ]
  },
  {
   "cell_type": "markdown",
   "metadata": {},
   "source": [
    "Here we select all the phenotypical variables, and discard the ones pertaining to the \"Sub-study ESP LungGO COPDGene\" category."
   ]
  },
  {
   "cell_type": "code",
   "execution_count": 10,
   "metadata": {},
   "outputs": [],
   "source": [
    "mask_pheno = variablesDict.index.get_level_values(1) == 'Subject Phenotype'\n",
    "mask_status = variablesDict.index.get_level_values(2) == 'Affection status'\n",
    "mask_vars = mask_pheno | mask_status\n",
    "variablesDict = variablesDict.loc[mask_vars,:]\n",
    "selected_vars = variablesDict.loc[:, \"varName\"].tolist()"
   ]
  },
  {
   "cell_type": "code",
   "execution_count": 11,
   "metadata": {},
   "outputs": [
    {
     "name": "stderr",
     "output_type": "stream",
     "text": [
      "/Users/Arnaud/miniconda3/envs/dbmi_jupyterhub/lib/python3.6/site-packages/IPython/core/interactiveshell.py:3249: DtypeWarning: Columns (2,3,5,6,7,8,9,24,26,27,30,31,32,40,41,43,44,45,46,47,48,49,50,51,52,53,54,55,56,57,58,59,60,61,62,63,64,65,66,67,68,69,70,71,72,73,74,75,76,77,78,79,80,81,82,83,84,85,86,87,88,89,90,91,92,93,94,95,96,97,98,99,100,101,102,103,104,105,108,109,111,112,113,114,115,116,117,120,121,125,126,128,140,141,145,148,149,150,151,152,153,154,155,156,157,158,159,160,161,162,164,165,166,168,171,172,173,176,177,178,179,185,188,189,190,191,193,194,195,196,198,199,200,201,202,204,206,207,208,210,211,213,215,216,217,218,219,220,221,222,223,225,226,227,228,232,233,234,235,236,237,238,239,240,241,242,243,244,245,246,247,248,249,252,253,254,255,256,257,258,280,281,300,311,329) have mixed types. Specify dtype option on import or set low_memory=False.\n",
      "  if (await self.run_code(code, result,  async_=asy)):\n"
     ]
    }
   ],
   "source": [
    "%%capture\n",
    "query = resource.query()\n",
    "query.select().add(selected_vars)\n",
    "facts = query.getResultsDataFrame(selected_vars)"
   ]
  },
  {
   "cell_type": "code",
   "execution_count": 13,
   "metadata": {},
   "outputs": [],
   "source": [
    "status_var = variablesDict.loc[variablesDict.index.get_level_values(2) == 'Affection status', \"varName\"]\n",
    "facts = facts.dropna(subset=status_var)\\\n",
    ".set_index(\"Patient ID\")\n",
    "mask_to_drop = variablesDict[\"simplified_varName\"]\\\n",
    ".isin([\"Dbgap_id\", \"De-identified site code\", \"A1AD: phenotype/genotype\"])\n",
    "variablesDict = variablesDict.loc[~mask_to_drop, :]\n",
    "var_to_keep = variablesDict.loc[:, \"varName\"]\n",
    "facts = facts.loc[:, var_to_keep]"
   ]
  },
  {
   "cell_type": "code",
   "execution_count": 14,
   "metadata": {},
   "outputs": [
    {
     "name": "stdout",
     "output_type": "stream",
     "text": [
      "10371 rows, 326 columns\n"
     ]
    }
   ],
   "source": [
    "print(\"{0} rows, {1} columns\".format(*facts.shape))"
   ]
  },
  {
   "cell_type": "code",
   "execution_count": 15,
   "metadata": {},
   "outputs": [
    {
     "data": {
      "text/html": [
       "<div>\n",
       "<style scoped>\n",
       "    .dataframe tbody tr th:only-of-type {\n",
       "        vertical-align: middle;\n",
       "    }\n",
       "\n",
       "    .dataframe tbody tr th {\n",
       "        vertical-align: top;\n",
       "    }\n",
       "\n",
       "    .dataframe thead th {\n",
       "        text-align: right;\n",
       "    }\n",
       "</style>\n",
       "<table border=\"1\" class=\"dataframe\">\n",
       "  <thead>\n",
       "    <tr style=\"text-align: right;\">\n",
       "      <th></th>\n",
       "      <th>\\Genetic Epidemiology of COPD (COPDGene)\\Subject Phenotype\\6MinWalk\\Distance walked [ft]\\</th>\n",
       "      <th>\\Genetic Epidemiology of COPD (COPDGene)\\Subject Phenotype\\6MinWalk\\Six minute walk: course layout\\</th>\n",
       "      <th>\\Genetic Epidemiology of COPD (COPDGene)\\Subject Phenotype\\6MinWalk\\Six minute walk: was your walking limited?\\</th>\n",
       "      <th>\\Genetic Epidemiology of COPD (COPDGene)\\Subject Phenotype\\6MinWalk\\Supplemental O2 used during 6-min walk L/min\\</th>\n",
       "      <th>\\Genetic Epidemiology of COPD (COPDGene)\\Subject Phenotype\\6MinWalk\\Walk symptoms: back pain\\</th>\n",
       "      <th>\\Genetic Epidemiology of COPD (COPDGene)\\Subject Phenotype\\6MinWalk\\Walk symptoms: joint pain\\</th>\n",
       "      <th>\\Genetic Epidemiology of COPD (COPDGene)\\Subject Phenotype\\6MinWalk\\Walk symptoms: leg discomfort/fatigue\\</th>\n",
       "      <th>\\Genetic Epidemiology of COPD (COPDGene)\\Subject Phenotype\\6MinWalk\\Walk symptoms: shortness of breath\\</th>\n",
       "      <th>\\Genetic Epidemiology of COPD (COPDGene)\\Subject Phenotype\\CT Acquisition Parameters\\CT Scanner\\CT scan final approval\\</th>\n",
       "      <th>\\Genetic Epidemiology of COPD (COPDGene)\\Subject Phenotype\\CT Acquisition Parameters\\CT Scanner\\CT scanner\\</th>\n",
       "      <th>...</th>\n",
       "      <th>\\Genetic Epidemiology of COPD (COPDGene)\\Subject Phenotype\\VIDA\\Percent emph (-950 Hu) total lung CT VIDA\\</th>\n",
       "      <th>\\Genetic Epidemiology of COPD (COPDGene)\\Subject Phenotype\\VIDA\\Percent gas trap (-856 Hu) total lung CT VIDA\\</th>\n",
       "      <th>\\Genetic Epidemiology of COPD (COPDGene)\\Subject Phenotype\\VIDA\\Pi10 SRWA CT VIDA\\</th>\n",
       "      <th>\\Genetic Epidemiology of COPD (COPDGene)\\Subject Phenotype\\VIDA\\Pi15 SRWA CT VIDA\\</th>\n",
       "      <th>\\Genetic Epidemiology of COPD (COPDGene)\\Subject Phenotype\\VIDA\\TLC CT VIDA\\</th>\n",
       "      <th>\\Genetic Epidemiology of COPD (COPDGene)\\Subject Phenotype\\VIDA\\Upper Lobe/Lower Lobe ratio CT VIDA\\</th>\n",
       "      <th>\\Genetic Epidemiology of COPD (COPDGene)\\Subject Phenotype\\VIDA\\Upper Lobes percent of total air vol CT VIDA\\</th>\n",
       "      <th>\\Genetic Epidemiology of COPD (COPDGene)\\Subject Phenotype\\VIDA\\Wall area percent: segmental CT VIDA\\</th>\n",
       "      <th>\\Genetic Epidemiology of COPD (COPDGene)\\Subject Phenotype\\VIDA\\Wall area percent: sub segmental CT VIDA\\</th>\n",
       "      <th>\\Genetic Epidemiology of COPD (COPDGene)\\Subjects\\Affection status\\</th>\n",
       "    </tr>\n",
       "    <tr>\n",
       "      <th>Patient ID</th>\n",
       "      <th></th>\n",
       "      <th></th>\n",
       "      <th></th>\n",
       "      <th></th>\n",
       "      <th></th>\n",
       "      <th></th>\n",
       "      <th></th>\n",
       "      <th></th>\n",
       "      <th></th>\n",
       "      <th></th>\n",
       "      <th></th>\n",
       "      <th></th>\n",
       "      <th></th>\n",
       "      <th></th>\n",
       "      <th></th>\n",
       "      <th></th>\n",
       "      <th></th>\n",
       "      <th></th>\n",
       "      <th></th>\n",
       "      <th></th>\n",
       "      <th></th>\n",
       "    </tr>\n",
       "  </thead>\n",
       "  <tbody>\n",
       "    <tr>\n",
       "      <th>45782</th>\n",
       "      <td>721.0</td>\n",
       "      <td>Straight</td>\n",
       "      <td>Yes</td>\n",
       "      <td>2.0</td>\n",
       "      <td>No</td>\n",
       "      <td>No</td>\n",
       "      <td>No</td>\n",
       "      <td>Checked (multiple-response)</td>\n",
       "      <td>Yes</td>\n",
       "      <td>0.0</td>\n",
       "      <td>...</td>\n",
       "      <td>36.9122</td>\n",
       "      <td>63.1391</td>\n",
       "      <td>3.877</td>\n",
       "      <td>5.396</td>\n",
       "      <td>6.77</td>\n",
       "      <td>1.575</td>\n",
       "      <td>51.97</td>\n",
       "      <td>64.5200</td>\n",
       "      <td>68.6625</td>\n",
       "      <td>Case</td>\n",
       "    </tr>\n",
       "    <tr>\n",
       "      <th>45783</th>\n",
       "      <td>1466.0</td>\n",
       "      <td>Straight</td>\n",
       "      <td>No</td>\n",
       "      <td>0.0</td>\n",
       "      <td>NaN</td>\n",
       "      <td>NaN</td>\n",
       "      <td>NaN</td>\n",
       "      <td>NaN</td>\n",
       "      <td>Yes</td>\n",
       "      <td>0.0</td>\n",
       "      <td>...</td>\n",
       "      <td>0.2346</td>\n",
       "      <td>4.8727</td>\n",
       "      <td>3.841</td>\n",
       "      <td>5.339</td>\n",
       "      <td>3.29</td>\n",
       "      <td>NaN</td>\n",
       "      <td>45.80</td>\n",
       "      <td>63.8850</td>\n",
       "      <td>NaN</td>\n",
       "      <td>Control</td>\n",
       "    </tr>\n",
       "    <tr>\n",
       "      <th>45784</th>\n",
       "      <td>865.0</td>\n",
       "      <td>Straight</td>\n",
       "      <td>Yes</td>\n",
       "      <td>4.0</td>\n",
       "      <td>Checked (multiple-response)</td>\n",
       "      <td>No</td>\n",
       "      <td>Checked (multiple-response)</td>\n",
       "      <td>No</td>\n",
       "      <td>Yes</td>\n",
       "      <td>0.0</td>\n",
       "      <td>...</td>\n",
       "      <td>6.6433</td>\n",
       "      <td>11.0298</td>\n",
       "      <td>3.669</td>\n",
       "      <td>5.065</td>\n",
       "      <td>3.77</td>\n",
       "      <td>1.359</td>\n",
       "      <td>44.19</td>\n",
       "      <td>63.7417</td>\n",
       "      <td>64.3433</td>\n",
       "      <td>Other</td>\n",
       "    </tr>\n",
       "    <tr>\n",
       "      <th>45785</th>\n",
       "      <td>1482.0</td>\n",
       "      <td>Circular</td>\n",
       "      <td>No</td>\n",
       "      <td>0.0</td>\n",
       "      <td>NaN</td>\n",
       "      <td>NaN</td>\n",
       "      <td>NaN</td>\n",
       "      <td>NaN</td>\n",
       "      <td>Yes</td>\n",
       "      <td>0.0</td>\n",
       "      <td>...</td>\n",
       "      <td>1.4878</td>\n",
       "      <td>3.7366</td>\n",
       "      <td>3.679</td>\n",
       "      <td>5.136</td>\n",
       "      <td>4.02</td>\n",
       "      <td>NaN</td>\n",
       "      <td>50.00</td>\n",
       "      <td>61.0133</td>\n",
       "      <td>64.3425</td>\n",
       "      <td>Control</td>\n",
       "    </tr>\n",
       "    <tr>\n",
       "      <th>45786</th>\n",
       "      <td>0.0</td>\n",
       "      <td>Straight</td>\n",
       "      <td>No</td>\n",
       "      <td>6.0</td>\n",
       "      <td>NaN</td>\n",
       "      <td>NaN</td>\n",
       "      <td>NaN</td>\n",
       "      <td>NaN</td>\n",
       "      <td>Yes</td>\n",
       "      <td>0.0</td>\n",
       "      <td>...</td>\n",
       "      <td>20.7948</td>\n",
       "      <td>35.9230</td>\n",
       "      <td>3.611</td>\n",
       "      <td>5.193</td>\n",
       "      <td>7.77</td>\n",
       "      <td>1.241</td>\n",
       "      <td>42.92</td>\n",
       "      <td>61.0533</td>\n",
       "      <td>0.0000</td>\n",
       "      <td>Case</td>\n",
       "    </tr>\n",
       "  </tbody>\n",
       "</table>\n",
       "<p>5 rows × 326 columns</p>\n",
       "</div>"
      ],
      "text/plain": [
       "            \\Genetic Epidemiology of COPD (COPDGene)\\Subject Phenotype\\6MinWalk\\Distance walked [ft]\\  \\\n",
       "Patient ID                                                                                              \n",
       "45782                                                   721.0                                           \n",
       "45783                                                  1466.0                                           \n",
       "45784                                                   865.0                                           \n",
       "45785                                                  1482.0                                           \n",
       "45786                                                     0.0                                           \n",
       "\n",
       "           \\Genetic Epidemiology of COPD (COPDGene)\\Subject Phenotype\\6MinWalk\\Six minute walk: course layout\\  \\\n",
       "Patient ID                                                                                                       \n",
       "45782                                                Straight                                                    \n",
       "45783                                                Straight                                                    \n",
       "45784                                                Straight                                                    \n",
       "45785                                                Circular                                                    \n",
       "45786                                                Straight                                                    \n",
       "\n",
       "           \\Genetic Epidemiology of COPD (COPDGene)\\Subject Phenotype\\6MinWalk\\Six minute walk: was your walking limited?\\  \\\n",
       "Patient ID                                                                                                                   \n",
       "45782                                                     Yes                                                                \n",
       "45783                                                      No                                                                \n",
       "45784                                                     Yes                                                                \n",
       "45785                                                      No                                                                \n",
       "45786                                                      No                                                                \n",
       "\n",
       "            \\Genetic Epidemiology of COPD (COPDGene)\\Subject Phenotype\\6MinWalk\\Supplemental O2 used during 6-min walk L/min\\  \\\n",
       "Patient ID                                                                                                                      \n",
       "45782                                                     2.0                                                                   \n",
       "45783                                                     0.0                                                                   \n",
       "45784                                                     4.0                                                                   \n",
       "45785                                                     0.0                                                                   \n",
       "45786                                                     6.0                                                                   \n",
       "\n",
       "           \\Genetic Epidemiology of COPD (COPDGene)\\Subject Phenotype\\6MinWalk\\Walk symptoms: back pain\\  \\\n",
       "Patient ID                                                                                                 \n",
       "45782                                                      No                                              \n",
       "45783                                                     NaN                                              \n",
       "45784                             Checked (multiple-response)                                              \n",
       "45785                                                     NaN                                              \n",
       "45786                                                     NaN                                              \n",
       "\n",
       "           \\Genetic Epidemiology of COPD (COPDGene)\\Subject Phenotype\\6MinWalk\\Walk symptoms: joint pain\\  \\\n",
       "Patient ID                                                                                                  \n",
       "45782                                                      No                                               \n",
       "45783                                                     NaN                                               \n",
       "45784                                                      No                                               \n",
       "45785                                                     NaN                                               \n",
       "45786                                                     NaN                                               \n",
       "\n",
       "           \\Genetic Epidemiology of COPD (COPDGene)\\Subject Phenotype\\6MinWalk\\Walk symptoms: leg discomfort/fatigue\\  \\\n",
       "Patient ID                                                                                                              \n",
       "45782                                                      No                                                           \n",
       "45783                                                     NaN                                                           \n",
       "45784                             Checked (multiple-response)                                                           \n",
       "45785                                                     NaN                                                           \n",
       "45786                                                     NaN                                                           \n",
       "\n",
       "           \\Genetic Epidemiology of COPD (COPDGene)\\Subject Phenotype\\6MinWalk\\Walk symptoms: shortness of breath\\  \\\n",
       "Patient ID                                                                                                           \n",
       "45782                             Checked (multiple-response)                                                        \n",
       "45783                                                     NaN                                                        \n",
       "45784                                                      No                                                        \n",
       "45785                                                     NaN                                                        \n",
       "45786                                                     NaN                                                        \n",
       "\n",
       "           \\Genetic Epidemiology of COPD (COPDGene)\\Subject Phenotype\\CT Acquisition Parameters\\CT Scanner\\CT scan final approval\\  \\\n",
       "Patient ID                                                                                                                           \n",
       "45782                                                     Yes                                                                        \n",
       "45783                                                     Yes                                                                        \n",
       "45784                                                     Yes                                                                        \n",
       "45785                                                     Yes                                                                        \n",
       "45786                                                     Yes                                                                        \n",
       "\n",
       "            \\Genetic Epidemiology of COPD (COPDGene)\\Subject Phenotype\\CT Acquisition Parameters\\CT Scanner\\CT scanner\\  \\\n",
       "Patient ID                                                                                                                \n",
       "45782                                                     0.0                                                             \n",
       "45783                                                     0.0                                                             \n",
       "45784                                                     0.0                                                             \n",
       "45785                                                     0.0                                                             \n",
       "45786                                                     0.0                                                             \n",
       "\n",
       "            ...  \\\n",
       "Patient ID  ...   \n",
       "45782       ...   \n",
       "45783       ...   \n",
       "45784       ...   \n",
       "45785       ...   \n",
       "45786       ...   \n",
       "\n",
       "            \\Genetic Epidemiology of COPD (COPDGene)\\Subject Phenotype\\VIDA\\Percent emph (-950 Hu) total lung CT VIDA\\  \\\n",
       "Patient ID                                                                                                               \n",
       "45782                                                 36.9122                                                            \n",
       "45783                                                  0.2346                                                            \n",
       "45784                                                  6.6433                                                            \n",
       "45785                                                  1.4878                                                            \n",
       "45786                                                 20.7948                                                            \n",
       "\n",
       "            \\Genetic Epidemiology of COPD (COPDGene)\\Subject Phenotype\\VIDA\\Percent gas trap (-856 Hu) total lung CT VIDA\\  \\\n",
       "Patient ID                                                                                                                   \n",
       "45782                                                 63.1391                                                                \n",
       "45783                                                  4.8727                                                                \n",
       "45784                                                 11.0298                                                                \n",
       "45785                                                  3.7366                                                                \n",
       "45786                                                 35.9230                                                                \n",
       "\n",
       "            \\Genetic Epidemiology of COPD (COPDGene)\\Subject Phenotype\\VIDA\\Pi10 SRWA CT VIDA\\  \\\n",
       "Patient ID                                                                                       \n",
       "45782                                                   3.877                                    \n",
       "45783                                                   3.841                                    \n",
       "45784                                                   3.669                                    \n",
       "45785                                                   3.679                                    \n",
       "45786                                                   3.611                                    \n",
       "\n",
       "            \\Genetic Epidemiology of COPD (COPDGene)\\Subject Phenotype\\VIDA\\Pi15 SRWA CT VIDA\\  \\\n",
       "Patient ID                                                                                       \n",
       "45782                                                   5.396                                    \n",
       "45783                                                   5.339                                    \n",
       "45784                                                   5.065                                    \n",
       "45785                                                   5.136                                    \n",
       "45786                                                   5.193                                    \n",
       "\n",
       "            \\Genetic Epidemiology of COPD (COPDGene)\\Subject Phenotype\\VIDA\\TLC CT VIDA\\  \\\n",
       "Patient ID                                                                                 \n",
       "45782                                                    6.77                              \n",
       "45783                                                    3.29                              \n",
       "45784                                                    3.77                              \n",
       "45785                                                    4.02                              \n",
       "45786                                                    7.77                              \n",
       "\n",
       "            \\Genetic Epidemiology of COPD (COPDGene)\\Subject Phenotype\\VIDA\\Upper Lobe/Lower Lobe ratio CT VIDA\\  \\\n",
       "Patient ID                                                                                                         \n",
       "45782                                                   1.575                                                      \n",
       "45783                                                     NaN                                                      \n",
       "45784                                                   1.359                                                      \n",
       "45785                                                     NaN                                                      \n",
       "45786                                                   1.241                                                      \n",
       "\n",
       "            \\Genetic Epidemiology of COPD (COPDGene)\\Subject Phenotype\\VIDA\\Upper Lobes percent of total air vol CT VIDA\\  \\\n",
       "Patient ID                                                                                                                  \n",
       "45782                                                   51.97                                                               \n",
       "45783                                                   45.80                                                               \n",
       "45784                                                   44.19                                                               \n",
       "45785                                                   50.00                                                               \n",
       "45786                                                   42.92                                                               \n",
       "\n",
       "            \\Genetic Epidemiology of COPD (COPDGene)\\Subject Phenotype\\VIDA\\Wall area percent: segmental CT VIDA\\  \\\n",
       "Patient ID                                                                                                          \n",
       "45782                                                 64.5200                                                       \n",
       "45783                                                 63.8850                                                       \n",
       "45784                                                 63.7417                                                       \n",
       "45785                                                 61.0133                                                       \n",
       "45786                                                 61.0533                                                       \n",
       "\n",
       "            \\Genetic Epidemiology of COPD (COPDGene)\\Subject Phenotype\\VIDA\\Wall area percent: sub segmental CT VIDA\\  \\\n",
       "Patient ID                                                                                                              \n",
       "45782                                                 68.6625                                                           \n",
       "45783                                                     NaN                                                           \n",
       "45784                                                 64.3433                                                           \n",
       "45785                                                 64.3425                                                           \n",
       "45786                                                  0.0000                                                           \n",
       "\n",
       "            \\Genetic Epidemiology of COPD (COPDGene)\\Subjects\\Affection status\\  \n",
       "Patient ID                                                                       \n",
       "45782                                                    Case                    \n",
       "45783                                                 Control                    \n",
       "45784                                                   Other                    \n",
       "45785                                                 Control                    \n",
       "45786                                                    Case                    \n",
       "\n",
       "[5 rows x 326 columns]"
      ]
     },
     "execution_count": 15,
     "metadata": {},
     "output_type": "execute_result"
    }
   ],
   "source": [
    "facts.tail(5)"
   ]
  },
  {
   "cell_type": "markdown",
   "metadata": {},
   "source": [
    "### 3. Data-management"
   ]
  },
  {
   "cell_type": "markdown",
   "metadata": {},
   "source": [
    "#### Selecting variables regarding their types"
   ]
  },
  {
   "cell_type": "markdown",
   "metadata": {},
   "source": [
    "One important step in a PheWAS is to get the distinction between categorical and numerical variables. This distinction is straightforward using the variables dictionary."
   ]
  },
  {
   "cell_type": "code",
   "execution_count": 16,
   "metadata": {},
   "outputs": [],
   "source": [
    "mask_categories = variablesDict.loc[:, \"categorical\"] == True\n",
    "categorical_varnames = variablesDict.loc[mask_categories, \"varName\"].tolist()\n",
    "continuous_varnames = variablesDict.loc[~mask_categories, \"varName\"].tolist()"
   ]
  },
  {
   "cell_type": "markdown",
   "metadata": {},
   "source": [
    "### Selecting the dependent variable to study\n",
    "Most of PheWAS use a genetic variant as the variable used to separate the population between cases and controls. However the population doesn't have to be dichotomized using a genetic variant, and any phenotypic variable could be used to run a PheWAS analysis (see for example [*Neuraz et al.*, 2013](https://journals.plos.org/ploscompbiol/article?id=10.1371/journal.pcbi.1003405)). \n",
    "\n",
    "Here we will use the **COPD status** as the case-control variable to dichotomize the population in our analysis, and keep only the population subset containing relevant values for the COPD status (i.e. keeping \"Case\" and \"Control\" individuals, thus discarding \"Other\", \"Control, Exclusionary Disease\", and null values)."
   ]
  },
  {
   "cell_type": "code",
   "execution_count": 17,
   "metadata": {},
   "outputs": [],
   "source": [
    "dependent_var_name = variablesDict.loc[variablesDict[\"simplified_varName\"] == \"Affection status\", \"varName\"].values[0]\n",
    "categorical_varnames.remove(dependent_var_name)"
   ]
  },
  {
   "cell_type": "code",
   "execution_count": 18,
   "metadata": {},
   "outputs": [
    {
     "name": "stdout",
     "output_type": "stream",
     "text": [
      "Control: 4499 individuals\n",
      "Case: 3692 individuals\n"
     ]
    }
   ],
   "source": [
    "mask_dependent_var_name = facts[dependent_var_name].isin([\"Case\", \"Control\"])\n",
    "facts = facts.loc[mask_dependent_var_name,:]\n",
    "print(\"Control: {0} individuals\\nCase: {1} individuals\".format(*facts[dependent_var_name].value_counts().tolist()))"
   ]
  },
  {
   "cell_type": "markdown",
   "metadata": {},
   "source": [
    "Next we create dummy variables to be able to carry categorical univariate statistical tests, and we store their names in the dictionary alongside corresponding original variables in the dictionary."
   ]
  },
  {
   "cell_type": "code",
   "execution_count": 19,
   "metadata": {
    "scrolled": true
   },
   "outputs": [],
   "source": [
    "facts_dummies = pd.get_dummies(facts, columns=categorical_varnames, drop_first=True)"
   ]
  },
  {
   "cell_type": "code",
   "execution_count": 20,
   "metadata": {
    "scrolled": true
   },
   "outputs": [],
   "source": [
    "matching_dummies_varNames = match_dummies_to_varNames(facts.columns,\n",
    "                                                      facts_dummies.columns,\n",
    "                                                      columns=[\"varName\", \"dummies_varName\"])\n",
    "\n",
    "variablesDict = joining_variablesTable_onCol(variablesDict,\n",
    "                                              matching_dummies_varNames,\n",
    "                                              left_col=\"varName\",\n",
    "                                              right_col=\"varName\",\n",
    "                                              overwrite=True)"
   ]
  },
  {
   "cell_type": "markdown",
   "metadata": {},
   "source": [
    "### 4. Univariate statistical tests"
   ]
  },
  {
   "cell_type": "markdown",
   "metadata": {},
   "source": [
    "To this point, each variable present in the facts_dummies dataset will be tested again the selected dependent variable, (ie presence or absence of COPD). \n",
    "\n",
    "Two different association test will be carried out according to variables data types: \n",
    "- Mann-Whitney U test for continuous ones\n",
    "- Fisher exact test for categorical ones"
   ]
  },
  {
   "cell_type": "markdown",
   "metadata": {},
   "source": [
    "#### Numerical variables: Mann-Whitney U test"
   ]
  },
  {
   "cell_type": "code",
   "execution_count": 21,
   "metadata": {},
   "outputs": [],
   "source": [
    "grouped = facts_dummies.groupby(dependent_var_name) \n",
    "\n",
    "dic_mannwhitneyu = {}\n",
    "for var in continuous_varnames: \n",
    "    group1, group2 = [group[1].dropna() for group in grouped[var]]\n",
    "    try:\n",
    "        dic_mannwhitneyu[var] = stats.mannwhitneyu(group1, group2).pvalue\n",
    "    except ValueError:\n",
    "        dic_mannwhitneyu[var] = np.NaN"
   ]
  },
  {
   "cell_type": "markdown",
   "metadata": {},
   "source": [
    "#### Qualitative variables: Fisher Exact test"
   ]
  },
  {
   "cell_type": "code",
   "execution_count": 22,
   "metadata": {},
   "outputs": [],
   "source": [
    "dummy_categorical_varnames = variablesDict.loc[variablesDict[\"varName\"].isin(categorical_varnames),:]\\\n",
    "[\"dummies_varName\"].values"
   ]
  },
  {
   "cell_type": "code",
   "execution_count": 23,
   "metadata": {},
   "outputs": [
    {
     "name": "stderr",
     "output_type": "stream",
     "text": [
      "100%|██████████| 252/252 [00:25<00:00, 10.00it/s]\n"
     ]
    }
   ],
   "source": [
    "# Fisher test for categorical variables\n",
    "from tqdm import tqdm\n",
    "\n",
    "dic_fisher = {}\n",
    "for var in tqdm(dummy_categorical_varnames, position=0, leave=True):\n",
    "    if type(var) != str:\n",
    "        continue\n",
    "    elif var not in facts_dummies.columns:\n",
    "        continue        \n",
    "    crosstab = pd.crosstab(facts_dummies[var], facts_dummies[dependent_var_name])\n",
    "    if crosstab.shape == (1,2):\n",
    "        dic_fisher[var] = np.NaN\n",
    "    else:\n",
    "        dic_fisher[var] = stats.fisher_exact(crosstab)[1]"
   ]
  },
  {
   "cell_type": "markdown",
   "metadata": {},
   "source": [
    "#### p-values distribution (univariate tests)"
   ]
  },
  {
   "cell_type": "code",
   "execution_count": 24,
   "metadata": {},
   "outputs": [
    {
     "data": {
      "text/plain": [
       "Text(0.5, 0.98, 'Distribution of individual p-values for Mann-Whintey U test')"
      ]
     },
     "execution_count": 24,
     "metadata": {},
     "output_type": "execute_result"
    },
    {
     "data": {
      "image/png": "[encoded data removed]",
      "text/plain": [
       "<Figure size 1008x576 with 1 Axes>"
      ]
     },
     "metadata": {
      "needs_background": "light"
     },
     "output_type": "display_data"
    }
   ],
   "source": [
    "pd.Series([v for v in dic_mannwhitneyu.values()]).plot.hist(bins=30)\n",
    "plt.suptitle(\"Distribution of individual p-values for Mann-Whintey U test\",\n",
    "             weight=\"bold\",\n",
    "            fontsize=15)"
   ]
  },
  {
   "cell_type": "code",
   "execution_count": 25,
   "metadata": {},
   "outputs": [
    {
     "data": {
      "text/plain": [
       "Text(0.5, 0.98, 'Distribution of individual p-values for Fisher association test')"
      ]
     },
     "execution_count": 25,
     "metadata": {},
     "output_type": "execute_result"
    },
    {
     "data": {
      "image/png": "[encoded data removed]",
      "text/plain": [
       "<Figure size 1008x576 with 1 Axes>"
      ]
     },
     "metadata": {
      "needs_background": "light"
     },
     "output_type": "display_data"
    }
   ],
   "source": [
    "pd.Series([v for v in dic_fisher.values()]).plot.hist(bins=20)\n",
    "plt.suptitle(\"Distribution of individual p-values for Fisher association test\", \n",
    "             size=30,\n",
    "             weight=\"bold\",\n",
    "            fontsize=15)"
   ]
  },
  {
   "cell_type": "markdown",
   "metadata": {},
   "source": [
    "### 5. Multiple hypotheses testing correction: Bonferroni Method"
   ]
  },
  {
   "cell_type": "markdown",
   "metadata": {},
   "source": [
    "In order to handle the multiple testing problem (increase in the probability to \"discover\" false statistical associations), we will use the Bonferroni correction method. Although many other multiple comparisons exist, Bonferroni is the most straightforward to use, because it doesn't require assumptions about variables correlation. Other PheWAS analysis also use False Discovery Rate controlling procedures ([see](https://en.wikipedia.org/wiki/False_discovery_rate))."
   ]
  },
  {
   "cell_type": "markdown",
   "metadata": {},
   "source": [
    "In a nutshell, Bonferonni allows to calculate a corrected \"statistical significant threshold\" according to the number of test performed. Every p-value below this threshold will be deemed statistically significant."
   ]
  },
  {
   "cell_type": "code",
   "execution_count": 26,
   "metadata": {},
   "outputs": [],
   "source": [
    "%%capture\n",
    "# Merging pvalues from different tests\n",
    "dic_pvalues = {**dic_mannwhitneyu, **dic_fisher}\n",
    "df_pvalues = pd.DataFrame.from_dict(dic_pvalues, orient=\"index\", columns=[\"pvalues\"])\\\n",
    ".rename_axis(\"dummies_varName\")\\\n",
    ".reset_index(drop=False)\n",
    "\n",
    "# Adding pvalues results as a new column to variablesDict\n",
    "variablesDict = joining_variablesTable_onCol(variablesDict,\n",
    "                                              df_pvalues,\n",
    "                                              left_col=\"dummies_varName\",\n",
    "                                              right_col=\"dummies_varName\")\n",
    "\n",
    "adjusted_alpha = 0.05/len(variablesDict[\"pvalues\"])\n",
    "variablesDict[\"p_adj\"] = variablesDict[\"pvalues\"] / len(variablesDict[\"pvalues\"])\n",
    "variablesDict['log_p'] = -np.log10(variablesDict['pvalues'])\n",
    "variablesDict = variablesDict.sort_index()\n",
    "variablesDict[\"group\"] = variablesDict.reset_index(level=2)[\"level_2\"].values"
   ]
  },
  {
   "cell_type": "code",
   "execution_count": 27,
   "metadata": {},
   "outputs": [
    {
     "name": "stdout",
     "output_type": "stream",
     "text": [
      "Bonferonni adjusted significance threshold: 1.26E-04\n"
     ]
    }
   ],
   "source": [
    "print(\"Bonferonni adjusted significance threshold: {0:.2E}\".format(adjusted_alpha))"
   ]
  },
  {
   "cell_type": "markdown",
   "metadata": {},
   "source": [
    "## 6. Result visualisations: Manhattan plot"
   ]
  },
  {
   "cell_type": "markdown",
   "metadata": {},
   "source": [
    "Manhattan plot is the classical results representation of a PheWAS analysis. It plots every each tested phenotypical variables on the X-axis, against its *-log(pvalue)* on the Y-axis. The horizontal line represent the adjusted significance level threshold."
   ]
  },
  {
   "cell_type": "code",
   "execution_count": 28,
   "metadata": {},
   "outputs": [
    {
     "data": {
      "image/png": "[encoded data removed]",
      "text/plain": [
       "<Figure size 1008x576 with 1 Axes>"
      ]
     },
     "metadata": {
      "needs_background": "light"
     },
     "output_type": "display_data"
    }
   ],
   "source": [
    "mask = variablesDict[\"pvalues\"].isna()\n",
    "df_results = variablesDict.loc[~mask,:].copy().replace([np.inf, -np.inf], np.nan)\n",
    "df_results = df_results.loc[~df_results[\"log_p\"].isna().values,:]\n",
    "\n",
    "#### Specific adjustment to make this specific plot looks nicer\n",
    "####### to adapt when changing data or dependent variable\n",
    "df_results = df_results.replace({\"TLC\": \"Spirometry\",\n",
    "                                 \"New Gold Classification\": \"Quantitative Analysis\", \n",
    "                  \"Other\": \"Demographics\"})\n",
    "group_order={'6MinWalk': 0,\n",
    " 'CT Acquisition Parameters': 1,\n",
    " 'CT Assessment Scoresheet': 2,\n",
    " 'Demographics and Physical Characteristics': 3,\n",
    " 'Eligibility Form': 10,\n",
    " 'Longitudinal Analysis': 5,\n",
    " 'Medical History': 4,\n",
    " 'Medication History': 13,\n",
    " 'Quantitative Analysis': 9,\n",
    " 'Respiratory Disease': 6,\n",
    " 'SF-36 Health Survey': 11,\n",
    " 'Sociodemography and Administration': 12,\n",
    " 'Spirometry': 7,\n",
    " 'VIDA': 15}\n",
    "df_results[\"group_order\"] = df_results[\"group\"].replace(group_order)\n",
    "df_results = df_results.sort_values(\"group_order\", ascending=True)\n",
    "df_results[\"simplified_varName\"] = df_results[\"simplified_varName\"].str.replace(\"[0-9]+[A-z]*\", \"\").to_frame()\n",
    "###\n",
    "\n",
    "\n",
    "fig = plt.figure()\n",
    "ax = fig.add_subplot(111)\n",
    "colors = plt.get_cmap('Set1')\n",
    "x_labels = []\n",
    "x_labels_pos = []\n",
    "\n",
    "y_lims = (0, df_results[\"log_p\"].max(skipna=True) + 50)\n",
    "threshold_top_values = df_results[\"log_p\"].sort_values(ascending=False)[0:6][-1]\n",
    "\n",
    "df_results[\"ind\"] = np.arange(1, len(df_results)+1)\n",
    "#df_results[\"group\"] = df_results[\"group\"].str.replace(\"[0-9]\", \"\")\n",
    "df_grouped = df_results.groupby(('group'))\n",
    "for num, (name, group) in enumerate(df_grouped):\n",
    "    group.plot(kind='scatter', x='ind', y='log_p',color=colors.colors[num % len(colors.colors)], ax=ax, s=20)\n",
    "    x_labels.append(name)\n",
    "    x_labels_pos.append((group['ind'].iloc[-1] - (group['ind'].iloc[-1] - group['ind'].iloc[0])/2)) # Set label in the middle\n",
    "\n",
    "    pair_ind = 0 # To shift label which might overlap because to close\n",
    "    for n, row in group.iterrows():\n",
    "#        if pair_ind %2 == 0:\n",
    "#            shift = 1.1\n",
    "#        else:\n",
    "#            shift = -1.1\n",
    "        if row[\"log_p\"] > threshold_top_values:\n",
    "            ax.text(row['ind'] + 3, row[\"log_p\"] + 0.05, row[\"simplified_varName\"], rotation=0, alpha=1, size=8, color=\"black\")\n",
    "#            pair_ind += 1\n",
    "                \n",
    "ax.set_xticks(x_labels_pos)\n",
    "ax.set_xticklabels(x_labels)\n",
    "ax.set_xlim([0, len(df_results) +1])\n",
    "ax.set_ylim(y_lims)\n",
    "ax.set_ylabel('-log(p-values)', style=\"italic\")\n",
    "ax.set_xlabel('Phenotypes', fontsize=15)\n",
    "ax.axhline(y=-np.log10(adjusted_alpha), linestyle=\":\", color=\"black\", label=\"Adjusted Threshold\")\n",
    "plt.xticks(fontsize = 9,rotation=90)\n",
    "plt.yticks(fontsize = 8)\n",
    "plt.title(\"Statistical Association Between COPD Status and Phenotypes\", \n",
    "          loc=\"center\",\n",
    "          style=\"oblique\", \n",
    "          fontsize = 20,\n",
    "         y=1)\n",
    "xticks = ax.xaxis.get_major_ticks()\n",
    "xticks[0].set_visible(False)\n",
    "handles, labels = ax.get_legend_handles_labels()\n",
    "plt.legend(handles = handles, labels = labels, loc = \"upper left\")\n",
    "plt.show()"
   ]
  },
  {
   "cell_type": "markdown",
   "metadata": {},
   "source": [
    "Overall, it appears that most of the tested phenotypes covariates are above the adjusted threshold of significant association. However, it is not surprising at all, given the nature of our dependent variable: a lot of those variables are by nature tied directly to the COPD status."
   ]
  },
  {
   "cell_type": "markdown",
   "metadata": {},
   "source": [
    "This code can be used directly with any other variable present in the variable Dictionary. It only need to change the `dependent_var_name` value."
   ]
  }
 ],
 "metadata": {
  "kernelspec": {
   "display_name": "Python 3.6",
   "language": "python",
   "name": "dbmi_jupyterhub"
  },
  "language_info": {
   "codemirror_mode": {
    "name": "ipython",
    "version": 3
   },
   "file_extension": ".py",
   "mimetype": "text/x-python",
   "name": "python",
   "nbconvert_exporter": "python",
   "pygments_lexer": "ipython3",
   "version": "3.6.9"
  }
 },
 "nbformat": 4,
 "nbformat_minor": 4
}
