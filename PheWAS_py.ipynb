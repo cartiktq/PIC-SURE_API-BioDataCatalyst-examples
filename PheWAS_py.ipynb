{
 "cells": [
  {
   "cell_type": "markdown",
   "metadata": {},
   "source": [
    "# Phenome-Wide analysis on COPDgene data: python PIC-SURE API use-case"
   ]
  },
  {
   "cell_type": "markdown",
   "metadata": {},
   "source": [
    "This notebook is an illustration example of how to use the python **PIC-SURE API** to select and query data from an HPDS-hosted database. It takes as use-case a simple PheWAS analysis. This notebook is intentionally straightforward, without too much explanation. For a more step-by-step introduction to the python PIC-SURE API, see the `PICSURE-API_101_PheWAS_example.ipynb` Notebook."
   ]
  },
  {
   "cell_type": "markdown",
   "metadata": {},
   "source": [
    "**Before running this notebook, please be sure to get an user-specific security token. For more information on how to proceed, see the `HPDS_connection.ipynb` notebook**"
   ]
  },
  {
   "cell_type": "markdown",
   "metadata": {},
   "source": [
    "# Environment set-up"
   ]
  },
  {
   "cell_type": "markdown",
   "metadata": {},
   "source": [
    "### System requirements\n",
    "- python 3.6 or later\n",
    "- pip & bash interpreter"
   ]
  },
  {
   "cell_type": "markdown",
   "metadata": {},
   "source": [
    "### Installation of external dependencies"
   ]
  },
  {
   "cell_type": "code",
   "execution_count": 1,
   "metadata": {},
   "outputs": [
    {
     "name": "stdout",
     "output_type": "stream",
     "text": [
      "Collecting git+https://github.com/hms-dbmi/pic-sure-python-adapter-hpds.git (from -r requirements.txt (line 7))\n",
      "  Cloning https://github.com/hms-dbmi/pic-sure-python-adapter-hpds.git to /private/var/folders/hm/wn0bpy0j7vl2q9gqnhhccpph0000gn/T/pip-req-build-bsu_yygr\n",
      "  Running command git clone -q https://github.com/hms-dbmi/pic-sure-python-adapter-hpds.git /private/var/folders/hm/wn0bpy0j7vl2q9gqnhhccpph0000gn/T/pip-req-build-bsu_yygr\n",
      "Requirement already satisfied (use --upgrade to upgrade): PicSureHpdsLib==0.9.0 from git+https://github.com/hms-dbmi/pic-sure-python-adapter-hpds.git in /Users/Arnaud/miniconda3/lib/python3.7/site-packages (from -r requirements.txt (line 7))\n",
      "Collecting git+https://github.com/hms-dbmi/pic-sure-python-client.git (from -r requirements.txt (line 8))\n",
      "  Cloning https://github.com/hms-dbmi/pic-sure-python-client.git to /private/var/folders/hm/wn0bpy0j7vl2q9gqnhhccpph0000gn/T/pip-req-build-t5i6zjc1\n",
      "  Running command git clone -q https://github.com/hms-dbmi/pic-sure-python-client.git /private/var/folders/hm/wn0bpy0j7vl2q9gqnhhccpph0000gn/T/pip-req-build-t5i6zjc1\n",
      "Requirement already satisfied (use --upgrade to upgrade): PicSureClient==0.1.0 from git+https://github.com/hms-dbmi/pic-sure-python-client.git in /Users/Arnaud/miniconda3/lib/python3.7/site-packages (from -r requirements.txt (line 8))\n",
      "Requirement already satisfied: numpy>=1.17.3 in /Users/Arnaud/miniconda3/lib/python3.7/site-packages (from -r requirements.txt (line 1)) (1.17.3)\n",
      "Requirement already satisfied: matplotlib>=3.1.1 in /Users/Arnaud/miniconda3/lib/python3.7/site-packages (from -r requirements.txt (line 2)) (3.1.1)\n",
      "Requirement already satisfied: pandas>=0.25.3 in /Users/Arnaud/miniconda3/lib/python3.7/site-packages (from -r requirements.txt (line 3)) (0.25.3)\n",
      "Requirement already satisfied: scipy>=1.3.1 in /Users/Arnaud/miniconda3/lib/python3.7/site-packages (from -r requirements.txt (line 4)) (1.3.1)\n",
      "Requirement already satisfied: tqdm>=4.38.0 in /Users/Arnaud/miniconda3/lib/python3.7/site-packages (from -r requirements.txt (line 5)) (4.38.0)\n",
      "Requirement already satisfied: statsmodels>=0.10.2 in /Users/Arnaud/miniconda3/lib/python3.7/site-packages (from -r requirements.txt (line 6)) (0.10.2)\n",
      "Requirement already satisfied: httplib2 in /Users/Arnaud/miniconda3/lib/python3.7/site-packages (from PicSureHpdsLib==0.9.0->-r requirements.txt (line 7)) (0.14.0)\n",
      "Requirement already satisfied: cycler>=0.10 in /Users/Arnaud/miniconda3/lib/python3.7/site-packages (from matplotlib>=3.1.1->-r requirements.txt (line 2)) (0.10.0)\n",
      "Requirement already satisfied: kiwisolver>=1.0.1 in /Users/Arnaud/miniconda3/lib/python3.7/site-packages (from matplotlib>=3.1.1->-r requirements.txt (line 2)) (1.1.0)\n",
      "Requirement already satisfied: pyparsing!=2.0.4,!=2.1.2,!=2.1.6,>=2.0.1 in /Users/Arnaud/miniconda3/lib/python3.7/site-packages (from matplotlib>=3.1.1->-r requirements.txt (line 2)) (2.4.5)\n",
      "Requirement already satisfied: python-dateutil>=2.1 in /Users/Arnaud/miniconda3/lib/python3.7/site-packages (from matplotlib>=3.1.1->-r requirements.txt (line 2)) (2.8.1)\n",
      "Requirement already satisfied: pytz>=2017.2 in /Users/Arnaud/miniconda3/lib/python3.7/site-packages (from pandas>=0.25.3->-r requirements.txt (line 3)) (2019.3)\n",
      "Requirement already satisfied: patsy>=0.4.0 in /Users/Arnaud/miniconda3/lib/python3.7/site-packages (from statsmodels>=0.10.2->-r requirements.txt (line 6)) (0.5.1)\n",
      "Requirement already satisfied: six in /Users/Arnaud/miniconda3/lib/python3.7/site-packages (from cycler>=0.10->matplotlib>=3.1.1->-r requirements.txt (line 2)) (1.12.0)\n",
      "Requirement already satisfied: setuptools in /Users/Arnaud/miniconda3/lib/python3.7/site-packages (from kiwisolver>=1.0.1->matplotlib>=3.1.1->-r requirements.txt (line 2)) (41.0.0)\n",
      "Building wheels for collected packages: PicSureHpdsLib, PicSureClient\n",
      "  Building wheel for PicSureHpdsLib (setup.py) ... \u001b[?25ldone\n",
      "\u001b[?25h  Created wheel for PicSureHpdsLib: filename=PicSureHpdsLib-0.9.0-py2.py3-none-any.whl size=17132 sha256=3f00727c36c325d714d382aed482eda40a598f0fa4afac4859c1420ffc26f0b2\n",
      "  Stored in directory: /private/var/folders/hm/wn0bpy0j7vl2q9gqnhhccpph0000gn/T/pip-ephem-wheel-cache-miml989s/wheels/6c/ac/12/4d142709d83e0bdd96c661e183f2dcbb0e03f90e98e5ac256e\n",
      "  Building wheel for PicSureClient (setup.py) ... \u001b[?25ldone\n",
      "\u001b[?25h  Created wheel for PicSureClient: filename=PicSureClient-0.1.0-py2.py3-none-any.whl size=8616 sha256=059dc58eb7848a630badecc85684c8adffc0a7163b83d9afcf2df8d7c8a30b13\n",
      "  Stored in directory: /private/var/folders/hm/wn0bpy0j7vl2q9gqnhhccpph0000gn/T/pip-ephem-wheel-cache-miml989s/wheels/b4/c1/d9/744d4e1c1ba5f0c5d847deba1a7c8f96f47d4b36c610dda114\n",
      "Successfully built PicSureHpdsLib PicSureClient\n"
     ]
    }
   ],
   "source": [
    "!pip install -r requirements.txt"
   ]
  },
  {
   "cell_type": "code",
   "execution_count": 2,
   "metadata": {},
   "outputs": [],
   "source": [
    "import json\n",
    "from pprint import pprint\n",
    "\n",
    "import pandas as pd\n",
    "import numpy as np \n",
    "import matplotlib.pyplot as plt\n",
    "from scipy import stats\n",
    "\n",
    "import PicSureHpdsLib\n",
    "import PicSureClient\n",
    "\n",
    "from python_lib.utils import get_multiIndex_variablesTable, get_dic_renaming_vars, match_dummies_to_varNames, joining_variablesTable_onCol\n",
    "from python_lib.HPDS_connection_manager import tokenManager"
   ]
  },
  {
   "cell_type": "code",
   "execution_count": 3,
   "metadata": {},
   "outputs": [
    {
     "name": "stdout",
     "output_type": "stream",
     "text": [
      "NB: This Jupyter Notebook has been written using PIC-SURE API following versions:\n",
      "- PicSureHpdsLib: 1.1.0\n",
      "- PicSureClient: 0.1.0\n",
      "The PIC-SURE API libraries versions you've been downloading are:\n",
      "- PicSureHpdsLib: 1.1.0\n",
      "- PicSureClient: 0.1.0\n"
     ]
    }
   ],
   "source": [
    "print(\"NB: This Jupyter Notebook has been written using PIC-SURE API following versions:\\n- PicSureHpdsLib: 1.1.0\\n- PicSureClient: 0.1.0\")\n",
    "print(\"The PIC-SURE API libraries versions you've been downloading are:\\n- PicSureHpdsLib: {0}\\n- PicSureClient: {1}\".format(PicSureHpdsLib.__version__, PicSureClient.__version__))"
   ]
  },
  {
   "cell_type": "code",
   "execution_count": 4,
   "metadata": {},
   "outputs": [],
   "source": [
    "# Pandas DataFrame display options\n",
    "pd.set_option(\"max.rows\", 435)\n",
    "\n",
    "# Matplotlib display parameters\n",
    "fig_size = plt.rcParams[\"figure.figsize\"]\n",
    "fig_size[0] = 14\n",
    "fig_size[1] = 8\n",
    "plt.rcParams[\"figure.figsize\"] = fig_size\n",
    "font = {'weight' : 'bold',\n",
    "        'size'   : 12}\n",
    "plt.rc('font', **font)"
   ]
  },
  {
   "cell_type": "markdown",
   "metadata": {},
   "source": [
    "## Connecting to a PIC-SURE network"
   ]
  },
  {
   "cell_type": "code",
   "execution_count": 5,
   "metadata": {},
   "outputs": [],
   "source": [
    "PICSURE_network_URL = \"https://copdgene-dev.hms.harvard.edu/picsure/\"\n",
    "COPDGene_resource = \"b6ef7b1a-56f6-11e9-8958-0242c0a83007\"\n",
    "token_file = \"tokens/copd.txt\""
   ]
  },
  {
   "cell_type": "code",
   "execution_count": 6,
   "metadata": {},
   "outputs": [
    {
     "name": "stdout",
     "output_type": "stream",
     "text": [
      "\u001b[32m\n",
      "Security Token Imported Correctly\n"
     ]
    }
   ],
   "source": [
    "token = tokenManager(token_file).get_token()"
   ]
  },
  {
   "cell_type": "code",
   "execution_count": 7,
   "metadata": {},
   "outputs": [],
   "source": [
    "client = PicSureClient.Client()\n",
    "connection = client.connect(PICSURE_network_URL, token, allowSelfSignedSSL=True)\n",
    "adapter = PicSureHpdsLib.Adapter(connection)\n",
    "resource = adapter.useResource(COPDGene_resource)"
   ]
  },
  {
   "cell_type": "markdown",
   "metadata": {},
   "source": [
    "## PheWAS analysis"
   ]
  },
  {
   "cell_type": "markdown",
   "metadata": {},
   "source": [
    "In a nutshell, this PheWAS analysis consists of two main steps:\n",
    "- Running univariate tests again every phenotypes variable\n",
    "- Adjusting for multiple testing issue\n",
    "\n",
    "In this example, we will select every phenotype variables available in the Dictionary, except for the variables pertaining to the \"Sub-study ESP LungGO COPDGene\" category (very small and specific population as compared to the COPDGene one)."
   ]
  },
  {
   "cell_type": "markdown",
   "metadata": {},
   "source": [
    "## PheWAS analysis"
   ]
  },
  {
   "cell_type": "markdown",
   "metadata": {},
   "source": [
    "In a nutshell, this PheWAS analysis follows those subsequent steps:\n",
    "- Retrieving the variables dictionary, using the PIC-SURE API dedicated methods\n",
    "- From the info provided by the dictionary, retrieving the data in an exploitable format through PIC-SURE API calls\n",
    "- Data management\n",
    "- Running univariate tests again every phenotypes variable\n",
    "- Adjusting for multiple testing issue\n",
    "- Plotting the results\n",
    "\n",
    "\n",
    "This analysis is conducted using COPDGene Study data. The study overall goal is to detect underlying genetic factors to develop Chronic Obstructive Pulmonary Disease (COPD), and enrolled more than 10,000 individuals ([more information on COPDGene Study](http://www.copdgene.org))."
   ]
  },
  {
   "cell_type": "markdown",
   "metadata": {},
   "source": [
    "### 1. Retrieving variable dictionary from HPDS Database"
   ]
  },
  {
   "cell_type": "markdown",
   "metadata": {},
   "source": [
    "Requesting only COPDGene related variables"
   ]
  },
  {
   "cell_type": "code",
   "execution_count": 8,
   "metadata": {},
   "outputs": [],
   "source": [
    "plain_variablesDict = resource.dictionary().find().DataFrame()"
   ]
  },
  {
   "cell_type": "code",
   "execution_count": 9,
   "metadata": {},
   "outputs": [],
   "source": [
    "variablesDict = get_multiIndex_variablesTable(plain_variablesDict)"
   ]
  },
  {
   "cell_type": "markdown",
   "metadata": {},
   "source": [
    "### 2. Selecting variables and retrieving data from HPDS"
   ]
  },
  {
   "cell_type": "code",
   "execution_count": 10,
   "metadata": {},
   "outputs": [],
   "source": [
    "mask_pheno = variablesDict[\"HpdsDataType\"] == \"phenotypes\"\n",
    "mask_substudy = variablesDict.index.get_level_values(0) != \"Sub-study ESP LungGO COPDGene\"\n",
    "mask_vars = mask_pheno & mask_substudy\n",
    "selected_vars = variablesDict.loc[mask_vars, \"varName\"].tolist()"
   ]
  },
  {
   "cell_type": "code",
   "execution_count": 11,
   "metadata": {},
   "outputs": [
    {
     "name": "stderr",
     "output_type": "stream",
     "text": [
      "/Users/Arnaud/miniconda3/envs/dbmi_jupyterhub/lib/python3.6/site-packages/IPython/core/interactiveshell.py:3249: DtypeWarning: Columns (42) have mixed types. Specify dtype option on import or set low_memory=False.\n",
      "  if (await self.run_code(code, result,  async_=asy)):\n"
     ]
    }
   ],
   "source": [
    "query = resource.query()\n",
    "query.select().add(selected_vars)\n",
    "facts = query.getResultsDataFrame(selected_vars).set_index(\"Patient ID\")"
   ]
  },
  {
   "cell_type": "markdown",
   "metadata": {},
   "source": [
    "We just check that our query runned the way intended by looking at the number of rows and columns"
   ]
  },
  {
   "cell_type": "code",
   "execution_count": 12,
   "metadata": {},
   "outputs": [
    {
     "data": {
      "text/html": [
       "<div>\n",
       "<style scoped>\n",
       "    .dataframe tbody tr th:only-of-type {\n",
       "        vertical-align: middle;\n",
       "    }\n",
       "\n",
       "    .dataframe tbody tr th {\n",
       "        vertical-align: top;\n",
       "    }\n",
       "\n",
       "    .dataframe thead th {\n",
       "        text-align: right;\n",
       "    }\n",
       "</style>\n",
       "<table border=\"1\" class=\"dataframe\">\n",
       "  <thead>\n",
       "    <tr style=\"text-align: right;\">\n",
       "      <th></th>\n",
       "      <th>\\00 Affection status\\</th>\n",
       "      <th>\\00 Consent groups\\</th>\n",
       "      <th>\\01 Demographics\\Age at enrollment\\</th>\n",
       "      <th>\\01 Demographics\\Gender\\</th>\n",
       "      <th>\\01 Demographics\\Other\\De-identified site code\\</th>\n",
       "      <th>\\01 Demographics\\Other\\Year of visit, to use for longitudinal analysis\\</th>\n",
       "      <th>\\01 Demographics\\Race\\</th>\n",
       "      <th>\\01 Demographics\\Your ethnic background\\</th>\n",
       "      <th>\\02 Medical history\\Exclusionary disease\\Other primary disease so subject excluded from COPD disease analysis such as ILD or Bronchiectasis\\</th>\n",
       "      <th>\\02 Medical history\\Medical history form\\01 Health status\\</th>\n",
       "      <th>...</th>\n",
       "      <th>\\03 Clinical data\\Spirometry\\02 Postbronchodilator Pulmonary Function Testing\\FVC post-bronch\\</th>\n",
       "      <th>\\03 Clinical data\\Spirometry\\02 Postbronchodilator Pulmonary Function Testing\\PEF post-bronch\\</th>\n",
       "      <th>\\03 Clinical data\\Spirometry\\03 Pre Postbronchodilator\\Pre Post-bronch FEV1 percent change\\</th>\n",
       "      <th>\\03 Clinical data\\Spirometry\\03 Pre Postbronchodilator\\Pre Post-bronch FEV1 volume change\\</th>\n",
       "      <th>\\03 Clinical data\\Spirometry\\03 Pre Postbronchodilator\\Pre Post-bronch FVC percent change\\</th>\n",
       "      <th>\\03 Clinical data\\Spirometry\\03 Pre Postbronchodilator\\Pre Post-bronch FVC volume change\\</th>\n",
       "      <th>\\03 Clinical data\\Spirometry\\04 Other\\ATS ERS classification\\</th>\n",
       "      <th>\\03 Clinical data\\Spirometry\\04 Other\\Bronchodilator responsiveness\\</th>\n",
       "      <th>\\03 Clinical data\\Spirometry\\04 Other\\Flag for low TLC percent predicted (lower than 70 percent)\\</th>\n",
       "      <th>\\03 Clinical data\\Spirometry\\04 Other\\New Gold Classification, using SGRQ for QOL\\</th>\n",
       "    </tr>\n",
       "    <tr>\n",
       "      <th>Patient ID</th>\n",
       "      <th></th>\n",
       "      <th></th>\n",
       "      <th></th>\n",
       "      <th></th>\n",
       "      <th></th>\n",
       "      <th></th>\n",
       "      <th></th>\n",
       "      <th></th>\n",
       "      <th></th>\n",
       "      <th></th>\n",
       "      <th></th>\n",
       "      <th></th>\n",
       "      <th></th>\n",
       "      <th></th>\n",
       "      <th></th>\n",
       "      <th></th>\n",
       "      <th></th>\n",
       "      <th></th>\n",
       "      <th></th>\n",
       "      <th></th>\n",
       "      <th></th>\n",
       "    </tr>\n",
       "  </thead>\n",
       "  <tbody>\n",
       "    <tr>\n",
       "      <th>431794</th>\n",
       "      <td>Other</td>\n",
       "      <td>COPD_HMB</td>\n",
       "      <td>46.1</td>\n",
       "      <td>Female</td>\n",
       "      <td>C16</td>\n",
       "      <td>2008.0</td>\n",
       "      <td>African American</td>\n",
       "      <td>Not Hispanic or Latino</td>\n",
       "      <td>NaN</td>\n",
       "      <td>Fair</td>\n",
       "      <td>...</td>\n",
       "      <td>3.995</td>\n",
       "      <td>4.796</td>\n",
       "      <td>31.6</td>\n",
       "      <td>0.547</td>\n",
       "      <td>16.5</td>\n",
       "      <td>0.565</td>\n",
       "      <td>Poss normal variant</td>\n",
       "      <td>1.0</td>\n",
       "      <td>Not flagged as an issue</td>\n",
       "      <td>B</td>\n",
       "    </tr>\n",
       "    <tr>\n",
       "      <th>431795</th>\n",
       "      <td>Control</td>\n",
       "      <td>COPD_HMB</td>\n",
       "      <td>59.0</td>\n",
       "      <td>Male</td>\n",
       "      <td>C08</td>\n",
       "      <td>2009.0</td>\n",
       "      <td>Caucasian</td>\n",
       "      <td>Not Hispanic or Latino</td>\n",
       "      <td>NaN</td>\n",
       "      <td>Very Good</td>\n",
       "      <td>...</td>\n",
       "      <td>3.991</td>\n",
       "      <td>10.205</td>\n",
       "      <td>-0.9</td>\n",
       "      <td>-0.024</td>\n",
       "      <td>4.5</td>\n",
       "      <td>0.171</td>\n",
       "      <td>Normal</td>\n",
       "      <td>0.0</td>\n",
       "      <td>Not flagged as an issue</td>\n",
       "      <td>A</td>\n",
       "    </tr>\n",
       "    <tr>\n",
       "      <th>431796</th>\n",
       "      <td>Control</td>\n",
       "      <td>COPD_HMB</td>\n",
       "      <td>55.7</td>\n",
       "      <td>Male</td>\n",
       "      <td>C13</td>\n",
       "      <td>2009.0</td>\n",
       "      <td>African American</td>\n",
       "      <td>Not Hispanic or Latino</td>\n",
       "      <td>NaN</td>\n",
       "      <td>Good</td>\n",
       "      <td>...</td>\n",
       "      <td>4.010</td>\n",
       "      <td>8.985</td>\n",
       "      <td>-4.2</td>\n",
       "      <td>-0.150</td>\n",
       "      <td>-5.5</td>\n",
       "      <td>-0.234</td>\n",
       "      <td>Normal</td>\n",
       "      <td>0.0</td>\n",
       "      <td>Not flagged as an issue</td>\n",
       "      <td>A</td>\n",
       "    </tr>\n",
       "    <tr>\n",
       "      <th>431797</th>\n",
       "      <td>Control</td>\n",
       "      <td>COPD_HMB</td>\n",
       "      <td>62.1</td>\n",
       "      <td>Female</td>\n",
       "      <td>C21</td>\n",
       "      <td>2008.0</td>\n",
       "      <td>Caucasian</td>\n",
       "      <td>Not Hispanic or Latino</td>\n",
       "      <td>NaN</td>\n",
       "      <td>Excellent</td>\n",
       "      <td>...</td>\n",
       "      <td>3.232</td>\n",
       "      <td>6.398</td>\n",
       "      <td>7.5</td>\n",
       "      <td>0.186</td>\n",
       "      <td>5.0</td>\n",
       "      <td>0.155</td>\n",
       "      <td>Normal</td>\n",
       "      <td>0.0</td>\n",
       "      <td>Not flagged as an issue</td>\n",
       "      <td>A</td>\n",
       "    </tr>\n",
       "    <tr>\n",
       "      <th>431798</th>\n",
       "      <td>Case</td>\n",
       "      <td>COPD_HMB</td>\n",
       "      <td>55.2</td>\n",
       "      <td>Female</td>\n",
       "      <td>C04</td>\n",
       "      <td>2008.0</td>\n",
       "      <td>Caucasian</td>\n",
       "      <td>Not Hispanic or Latino</td>\n",
       "      <td>NaN</td>\n",
       "      <td>Fair</td>\n",
       "      <td>...</td>\n",
       "      <td>2.393</td>\n",
       "      <td>2.174</td>\n",
       "      <td>4.3</td>\n",
       "      <td>0.027</td>\n",
       "      <td>6.3</td>\n",
       "      <td>0.141</td>\n",
       "      <td>Very severe</td>\n",
       "      <td>0.0</td>\n",
       "      <td>Not flagged as an issue</td>\n",
       "      <td>D1</td>\n",
       "    </tr>\n",
       "  </tbody>\n",
       "</table>\n",
       "<p>5 rows × 328 columns</p>\n",
       "</div>"
      ],
      "text/plain": [
       "           \\00 Affection status\\ \\00 Consent groups\\  \\\n",
       "Patient ID                                             \n",
       "431794                     Other            COPD_HMB   \n",
       "431795                   Control            COPD_HMB   \n",
       "431796                   Control            COPD_HMB   \n",
       "431797                   Control            COPD_HMB   \n",
       "431798                      Case            COPD_HMB   \n",
       "\n",
       "            \\01 Demographics\\Age at enrollment\\ \\01 Demographics\\Gender\\  \\\n",
       "Patient ID                                                                 \n",
       "431794                                     46.1                   Female   \n",
       "431795                                     59.0                     Male   \n",
       "431796                                     55.7                     Male   \n",
       "431797                                     62.1                   Female   \n",
       "431798                                     55.2                   Female   \n",
       "\n",
       "           \\01 Demographics\\Other\\De-identified site code\\  \\\n",
       "Patient ID                                                   \n",
       "431794                                                 C16   \n",
       "431795                                                 C08   \n",
       "431796                                                 C13   \n",
       "431797                                                 C21   \n",
       "431798                                                 C04   \n",
       "\n",
       "            \\01 Demographics\\Other\\Year of visit, to use for longitudinal analysis\\  \\\n",
       "Patient ID                                                                            \n",
       "431794                                                 2008.0                         \n",
       "431795                                                 2009.0                         \n",
       "431796                                                 2009.0                         \n",
       "431797                                                 2008.0                         \n",
       "431798                                                 2008.0                         \n",
       "\n",
       "           \\01 Demographics\\Race\\ \\01 Demographics\\Your ethnic background\\  \\\n",
       "Patient ID                                                                   \n",
       "431794           African American                   Not Hispanic or Latino   \n",
       "431795                  Caucasian                   Not Hispanic or Latino   \n",
       "431796           African American                   Not Hispanic or Latino   \n",
       "431797                  Caucasian                   Not Hispanic or Latino   \n",
       "431798                  Caucasian                   Not Hispanic or Latino   \n",
       "\n",
       "           \\02 Medical history\\Exclusionary disease\\Other primary disease so subject excluded from COPD disease analysis such as ILD or Bronchiectasis\\  \\\n",
       "Patient ID                                                                                                                                                \n",
       "431794                                                    NaN                                                                                             \n",
       "431795                                                    NaN                                                                                             \n",
       "431796                                                    NaN                                                                                             \n",
       "431797                                                    NaN                                                                                             \n",
       "431798                                                    NaN                                                                                             \n",
       "\n",
       "           \\02 Medical history\\Medical history form\\01 Health status\\  ...  \\\n",
       "Patient ID                                                             ...   \n",
       "431794                                                   Fair          ...   \n",
       "431795                                              Very Good          ...   \n",
       "431796                                                   Good          ...   \n",
       "431797                                              Excellent          ...   \n",
       "431798                                                   Fair          ...   \n",
       "\n",
       "           \\03 Clinical data\\Spirometry\\02 Postbronchodilator Pulmonary Function Testing\\FVC post-bronch\\  \\\n",
       "Patient ID                                                                                                  \n",
       "431794                                                  3.995                                               \n",
       "431795                                                  3.991                                               \n",
       "431796                                                  4.010                                               \n",
       "431797                                                  3.232                                               \n",
       "431798                                                  2.393                                               \n",
       "\n",
       "           \\03 Clinical data\\Spirometry\\02 Postbronchodilator Pulmonary Function Testing\\PEF post-bronch\\  \\\n",
       "Patient ID                                                                                                  \n",
       "431794                                                  4.796                                               \n",
       "431795                                                 10.205                                               \n",
       "431796                                                  8.985                                               \n",
       "431797                                                  6.398                                               \n",
       "431798                                                  2.174                                               \n",
       "\n",
       "           \\03 Clinical data\\Spirometry\\03 Pre Postbronchodilator\\Pre Post-bronch FEV1 percent change\\  \\\n",
       "Patient ID                                                                                               \n",
       "431794                                                   31.6                                            \n",
       "431795                                                   -0.9                                            \n",
       "431796                                                   -4.2                                            \n",
       "431797                                                    7.5                                            \n",
       "431798                                                    4.3                                            \n",
       "\n",
       "           \\03 Clinical data\\Spirometry\\03 Pre Postbronchodilator\\Pre Post-bronch FEV1 volume change\\  \\\n",
       "Patient ID                                                                                              \n",
       "431794                                                  0.547                                           \n",
       "431795                                                 -0.024                                           \n",
       "431796                                                 -0.150                                           \n",
       "431797                                                  0.186                                           \n",
       "431798                                                  0.027                                           \n",
       "\n",
       "           \\03 Clinical data\\Spirometry\\03 Pre Postbronchodilator\\Pre Post-bronch FVC percent change\\  \\\n",
       "Patient ID                                                                                              \n",
       "431794                                                   16.5                                           \n",
       "431795                                                    4.5                                           \n",
       "431796                                                   -5.5                                           \n",
       "431797                                                    5.0                                           \n",
       "431798                                                    6.3                                           \n",
       "\n",
       "           \\03 Clinical data\\Spirometry\\03 Pre Postbronchodilator\\Pre Post-bronch FVC volume change\\  \\\n",
       "Patient ID                                                                                             \n",
       "431794                                                  0.565                                          \n",
       "431795                                                  0.171                                          \n",
       "431796                                                 -0.234                                          \n",
       "431797                                                  0.155                                          \n",
       "431798                                                  0.141                                          \n",
       "\n",
       "           \\03 Clinical data\\Spirometry\\04 Other\\ATS ERS classification\\  \\\n",
       "Patient ID                                                                 \n",
       "431794                                    Poss normal variant              \n",
       "431795                                                 Normal              \n",
       "431796                                                 Normal              \n",
       "431797                                                 Normal              \n",
       "431798                                            Very severe              \n",
       "\n",
       "           \\03 Clinical data\\Spirometry\\04 Other\\Bronchodilator responsiveness\\  \\\n",
       "Patient ID                                                                        \n",
       "431794                                                    1.0                     \n",
       "431795                                                    0.0                     \n",
       "431796                                                    0.0                     \n",
       "431797                                                    0.0                     \n",
       "431798                                                    0.0                     \n",
       "\n",
       "           \\03 Clinical data\\Spirometry\\04 Other\\Flag for low TLC percent predicted (lower than 70 percent)\\  \\\n",
       "Patient ID                                                                                                     \n",
       "431794                                Not flagged as an issue                                                  \n",
       "431795                                Not flagged as an issue                                                  \n",
       "431796                                Not flagged as an issue                                                  \n",
       "431797                                Not flagged as an issue                                                  \n",
       "431798                                Not flagged as an issue                                                  \n",
       "\n",
       "           \\03 Clinical data\\Spirometry\\04 Other\\New Gold Classification, using SGRQ for QOL\\  \n",
       "Patient ID                                                                                     \n",
       "431794                                                      B                                  \n",
       "431795                                                      A                                  \n",
       "431796                                                      A                                  \n",
       "431797                                                      A                                  \n",
       "431798                                                     D1                                  \n",
       "\n",
       "[5 rows x 328 columns]"
      ]
     },
     "execution_count": 12,
     "metadata": {},
     "output_type": "execute_result"
    }
   ],
   "source": [
    "facts.head(5)"
   ]
  },
  {
   "cell_type": "code",
   "execution_count": 13,
   "metadata": {},
   "outputs": [
    {
     "name": "stdout",
     "output_type": "stream",
     "text": [
      "10371 rows, 328 columns\n"
     ]
    }
   ],
   "source": [
    "print(\"{0} rows, {1} columns\".format(*facts.shape))"
   ]
  },
  {
   "cell_type": "markdown",
   "metadata": {},
   "source": [
    "### 3. Data-management"
   ]
  },
  {
   "cell_type": "markdown",
   "metadata": {},
   "source": [
    "#### Selecting variables regarding their types"
   ]
  },
  {
   "cell_type": "markdown",
   "metadata": {},
   "source": [
    "One important step in a PheWAS is to get the distinction between categorical and numerical variables. This distinction is straightforward using the variables dictionary."
   ]
  },
  {
   "cell_type": "code",
   "execution_count": 14,
   "metadata": {},
   "outputs": [],
   "source": [
    "mask_categories = variablesDict.loc[mask_vars, \"categorical\"] == True\n",
    "categorical_varnames = variablesDict.loc[mask_vars,:].loc[mask_categories, \"varName\"].tolist()\n",
    "continuous_varnames = variablesDict.loc[mask_vars,:].loc[~mask_categories, \"varName\"].tolist()"
   ]
  },
  {
   "cell_type": "markdown",
   "metadata": {},
   "source": [
    "### Selecting the dependent variable to study\n",
    "Most of PheWAS use a genetic variant as the variable used to separate the population between cases and controls. However the population doesn't have to be dichotomized using a genetic variant, and any phenotypic variable could be used to run a PheWAS analysis (see for example [*Neuraz et al.*, 2013](https://journals.plos.org/ploscompbiol/article?id=10.1371/journal.pcbi.1003405)). \n",
    "\n",
    "Here we will use the **COPD status** as the case-control variable to dichotomize the population in our analysis (ie the dependent variable for which univariate association test will be run against)."
   ]
  },
  {
   "cell_type": "code",
   "execution_count": 15,
   "metadata": {},
   "outputs": [],
   "source": [
    "dependent_var_name = variablesDict.loc[variablesDict[\"simplified_varName\"] == \"00 Affection status\", \"varName\"].values[0]\n",
    "categorical_varnames.remove(dependent_var_name)"
   ]
  },
  {
   "cell_type": "markdown",
   "metadata": {},
   "source": [
    "Then we subset our population regarding the relevant values for the COPD diagnosis variable (i.e. keeping \"Case\" and \"Control\" individuals, thus discarding \"Other\", \"Control, Exclusionary Disease\", and null values)."
   ]
  },
  {
   "cell_type": "code",
   "execution_count": 16,
   "metadata": {},
   "outputs": [
    {
     "name": "stdout",
     "output_type": "stream",
     "text": [
      "Control: 4499 individuals\n",
      "Case: 3692 individuals\n"
     ]
    }
   ],
   "source": [
    "mask_dependent_var_name = facts[dependent_var_name].isin([\"Case\", \"Control\"])\n",
    "facts = facts.loc[mask_dependent_var_name,:]\n",
    "print(\"Control: {0} individuals\\nCase: {1} individuals\".format(*facts[dependent_var_name].value_counts().tolist()))"
   ]
  },
  {
   "cell_type": "markdown",
   "metadata": {},
   "source": [
    "Next we create dummy variables in order to be able to carry categorical univariate statistical tests, and we store their names in the dictionary alongside corresponding original variables in the dictionary."
   ]
  },
  {
   "cell_type": "code",
   "execution_count": 17,
   "metadata": {
    "scrolled": true
   },
   "outputs": [],
   "source": [
    "facts_dummies = pd.get_dummies(facts, columns=categorical_varnames, drop_first=True)"
   ]
  },
  {
   "cell_type": "code",
   "execution_count": 18,
   "metadata": {},
   "outputs": [],
   "source": [
    "matching_dummies_varNames = match_dummies_to_varNames(facts.columns,\n",
    "                                                      facts_dummies.columns,\n",
    "                                                      columns=[\"varName\", \"dummies_varName\"])"
   ]
  },
  {
   "cell_type": "code",
   "execution_count": 19,
   "metadata": {
    "scrolled": true
   },
   "outputs": [],
   "source": [
    "variablesDict = joining_variablesTable_onCol(variablesDict,\n",
    "                                              matching_dummies_varNames,\n",
    "                                              left_col=\"varName\",\n",
    "                                              right_col=\"varName\",\n",
    "                                              overwrite=False)"
   ]
  },
  {
   "cell_type": "code",
   "execution_count": 20,
   "metadata": {},
   "outputs": [
    {
     "data": {
      "text/html": [
       "<div>\n",
       "<style scoped>\n",
       "    .dataframe tbody tr th:only-of-type {\n",
       "        vertical-align: middle;\n",
       "    }\n",
       "\n",
       "    .dataframe tbody tr th {\n",
       "        vertical-align: top;\n",
       "    }\n",
       "\n",
       "    .dataframe thead th {\n",
       "        text-align: right;\n",
       "    }\n",
       "</style>\n",
       "<table border=\"1\" class=\"dataframe\">\n",
       "  <thead>\n",
       "    <tr style=\"text-align: right;\">\n",
       "      <th></th>\n",
       "      <th></th>\n",
       "      <th></th>\n",
       "      <th></th>\n",
       "      <th></th>\n",
       "      <th>varName</th>\n",
       "      <th>simplified_varName</th>\n",
       "      <th>observationCount</th>\n",
       "      <th>categorical</th>\n",
       "      <th>categoryValues</th>\n",
       "      <th>min</th>\n",
       "      <th>max</th>\n",
       "      <th>HpdsDataType</th>\n",
       "      <th>dummies_varName</th>\n",
       "    </tr>\n",
       "    <tr>\n",
       "      <th>level_0</th>\n",
       "      <th>level_1</th>\n",
       "      <th>level_2</th>\n",
       "      <th>level_3</th>\n",
       "      <th>level_4</th>\n",
       "      <th></th>\n",
       "      <th></th>\n",
       "      <th></th>\n",
       "      <th></th>\n",
       "      <th></th>\n",
       "      <th></th>\n",
       "      <th></th>\n",
       "      <th></th>\n",
       "      <th></th>\n",
       "    </tr>\n",
       "  </thead>\n",
       "  <tbody>\n",
       "    <tr>\n",
       "      <th>00 Affection status</th>\n",
       "      <th>NaN</th>\n",
       "      <th>NaN</th>\n",
       "      <th>NaN</th>\n",
       "      <th>NaN</th>\n",
       "      <td>\\00 Affection status\\</td>\n",
       "      <td>00 Affection status</td>\n",
       "      <td>10371</td>\n",
       "      <td>True</td>\n",
       "      <td>[Case, Control, Exclusionary Disease, Other]</td>\n",
       "      <td>NaN</td>\n",
       "      <td>NaN</td>\n",
       "      <td>phenotypes</td>\n",
       "      <td>\\00 Affection status\\</td>\n",
       "    </tr>\n",
       "    <tr>\n",
       "      <th>00 Consent groups</th>\n",
       "      <th>NaN</th>\n",
       "      <th>NaN</th>\n",
       "      <th>NaN</th>\n",
       "      <th>NaN</th>\n",
       "      <td>\\00 Consent groups\\</td>\n",
       "      <td>00 Consent groups</td>\n",
       "      <td>10371</td>\n",
       "      <td>True</td>\n",
       "      <td>[COPD_DS-CS-RD, COPD_HMB]</td>\n",
       "      <td>NaN</td>\n",
       "      <td>NaN</td>\n",
       "      <td>phenotypes</td>\n",
       "      <td>\\00 Consent groups\\_COPD_HMB</td>\n",
       "    </tr>\n",
       "    <tr>\n",
       "      <th rowspan=\"3\" valign=\"top\">01 Demographics</th>\n",
       "      <th>Age at enrollment</th>\n",
       "      <th>NaN</th>\n",
       "      <th>NaN</th>\n",
       "      <th>NaN</th>\n",
       "      <td>\\01 Demographics\\Age at enrollment\\</td>\n",
       "      <td>Age at enrollment</td>\n",
       "      <td>10371</td>\n",
       "      <td>False</td>\n",
       "      <td>None</td>\n",
       "      <td>39.9</td>\n",
       "      <td>85.0</td>\n",
       "      <td>phenotypes</td>\n",
       "      <td>\\01 Demographics\\Age at enrollment\\</td>\n",
       "    </tr>\n",
       "    <tr>\n",
       "      <th>Gender</th>\n",
       "      <th>NaN</th>\n",
       "      <th>NaN</th>\n",
       "      <th>NaN</th>\n",
       "      <td>\\01 Demographics\\Gender\\</td>\n",
       "      <td>Gender</td>\n",
       "      <td>10371</td>\n",
       "      <td>True</td>\n",
       "      <td>[Female, Male]</td>\n",
       "      <td>NaN</td>\n",
       "      <td>NaN</td>\n",
       "      <td>phenotypes</td>\n",
       "      <td>\\01 Demographics\\Gender\\_Male</td>\n",
       "    </tr>\n",
       "    <tr>\n",
       "      <th>Other</th>\n",
       "      <th>De-identified site code</th>\n",
       "      <th>NaN</th>\n",
       "      <th>NaN</th>\n",
       "      <td>\\01 Demographics\\Other\\De-identified site code\\</td>\n",
       "      <td>De-identified site code</td>\n",
       "      <td>10371</td>\n",
       "      <td>True</td>\n",
       "      <td>[C01, C02, C03, C04, C05, C06, C07, C08, C09, ...</td>\n",
       "      <td>NaN</td>\n",
       "      <td>NaN</td>\n",
       "      <td>phenotypes</td>\n",
       "      <td>\\01 Demographics\\Other\\De-identified site code...</td>\n",
       "    </tr>\n",
       "  </tbody>\n",
       "</table>\n",
       "</div>"
      ],
      "text/plain": [
       "                                                                                                                       varName  \\\n",
       "level_0             level_1           level_2                 level_3 level_4                                                    \n",
       "00 Affection status NaN               NaN                     NaN     NaN                                \\00 Affection status\\   \n",
       "00 Consent groups   NaN               NaN                     NaN     NaN                                  \\00 Consent groups\\   \n",
       "01 Demographics     Age at enrollment NaN                     NaN     NaN                  \\01 Demographics\\Age at enrollment\\   \n",
       "                    Gender            NaN                     NaN     NaN                             \\01 Demographics\\Gender\\   \n",
       "                    Other             De-identified site code NaN     NaN      \\01 Demographics\\Other\\De-identified site code\\   \n",
       "\n",
       "                                                                                    simplified_varName  \\\n",
       "level_0             level_1           level_2                 level_3 level_4                            \n",
       "00 Affection status NaN               NaN                     NaN     NaN          00 Affection status   \n",
       "00 Consent groups   NaN               NaN                     NaN     NaN            00 Consent groups   \n",
       "01 Demographics     Age at enrollment NaN                     NaN     NaN            Age at enrollment   \n",
       "                    Gender            NaN                     NaN     NaN                       Gender   \n",
       "                    Other             De-identified site code NaN     NaN      De-identified site code   \n",
       "\n",
       "                                                                               observationCount  \\\n",
       "level_0             level_1           level_2                 level_3 level_4                     \n",
       "00 Affection status NaN               NaN                     NaN     NaN                 10371   \n",
       "00 Consent groups   NaN               NaN                     NaN     NaN                 10371   \n",
       "01 Demographics     Age at enrollment NaN                     NaN     NaN                 10371   \n",
       "                    Gender            NaN                     NaN     NaN                 10371   \n",
       "                    Other             De-identified site code NaN     NaN                 10371   \n",
       "\n",
       "                                                                               categorical  \\\n",
       "level_0             level_1           level_2                 level_3 level_4                \n",
       "00 Affection status NaN               NaN                     NaN     NaN             True   \n",
       "00 Consent groups   NaN               NaN                     NaN     NaN             True   \n",
       "01 Demographics     Age at enrollment NaN                     NaN     NaN            False   \n",
       "                    Gender            NaN                     NaN     NaN             True   \n",
       "                    Other             De-identified site code NaN     NaN             True   \n",
       "\n",
       "                                                                                                                  categoryValues  \\\n",
       "level_0             level_1           level_2                 level_3 level_4                                                      \n",
       "00 Affection status NaN               NaN                     NaN     NaN           [Case, Control, Exclusionary Disease, Other]   \n",
       "00 Consent groups   NaN               NaN                     NaN     NaN                              [COPD_DS-CS-RD, COPD_HMB]   \n",
       "01 Demographics     Age at enrollment NaN                     NaN     NaN                                                   None   \n",
       "                    Gender            NaN                     NaN     NaN                                         [Female, Male]   \n",
       "                    Other             De-identified site code NaN     NaN      [C01, C02, C03, C04, C05, C06, C07, C08, C09, ...   \n",
       "\n",
       "                                                                                min  \\\n",
       "level_0             level_1           level_2                 level_3 level_4         \n",
       "00 Affection status NaN               NaN                     NaN     NaN       NaN   \n",
       "00 Consent groups   NaN               NaN                     NaN     NaN       NaN   \n",
       "01 Demographics     Age at enrollment NaN                     NaN     NaN      39.9   \n",
       "                    Gender            NaN                     NaN     NaN       NaN   \n",
       "                    Other             De-identified site code NaN     NaN       NaN   \n",
       "\n",
       "                                                                                max  \\\n",
       "level_0             level_1           level_2                 level_3 level_4         \n",
       "00 Affection status NaN               NaN                     NaN     NaN       NaN   \n",
       "00 Consent groups   NaN               NaN                     NaN     NaN       NaN   \n",
       "01 Demographics     Age at enrollment NaN                     NaN     NaN      85.0   \n",
       "                    Gender            NaN                     NaN     NaN       NaN   \n",
       "                    Other             De-identified site code NaN     NaN       NaN   \n",
       "\n",
       "                                                                              HpdsDataType  \\\n",
       "level_0             level_1           level_2                 level_3 level_4                \n",
       "00 Affection status NaN               NaN                     NaN     NaN       phenotypes   \n",
       "00 Consent groups   NaN               NaN                     NaN     NaN       phenotypes   \n",
       "01 Demographics     Age at enrollment NaN                     NaN     NaN       phenotypes   \n",
       "                    Gender            NaN                     NaN     NaN       phenotypes   \n",
       "                    Other             De-identified site code NaN     NaN       phenotypes   \n",
       "\n",
       "                                                                                                                 dummies_varName  \n",
       "level_0             level_1           level_2                 level_3 level_4                                                     \n",
       "00 Affection status NaN               NaN                     NaN     NaN                                  \\00 Affection status\\  \n",
       "00 Consent groups   NaN               NaN                     NaN     NaN                           \\00 Consent groups\\_COPD_HMB  \n",
       "01 Demographics     Age at enrollment NaN                     NaN     NaN                    \\01 Demographics\\Age at enrollment\\  \n",
       "                    Gender            NaN                     NaN     NaN                          \\01 Demographics\\Gender\\_Male  \n",
       "                    Other             De-identified site code NaN     NaN      \\01 Demographics\\Other\\De-identified site code...  "
      ]
     },
     "execution_count": 20,
     "metadata": {},
     "output_type": "execute_result"
    }
   ],
   "source": [
    "variablesDict.head()"
   ]
  },
  {
   "cell_type": "markdown",
   "metadata": {},
   "source": [
    "### 4. Univariate statistical tests"
   ]
  },
  {
   "cell_type": "markdown",
   "metadata": {},
   "source": [
    "To this point, each variable present in the facts_dummies dataset will be tested again the selected dependent variable, (ie presence or absence of COPD). \n",
    "\n",
    "Two different association test will be carried out according to variables data types: \n",
    "- Mann-Whitney U test for continuous ones\n",
    "- Fisher exact test for categorical ones"
   ]
  },
  {
   "cell_type": "markdown",
   "metadata": {},
   "source": [
    "#### Numerical variables: Mann-Whitney U test"
   ]
  },
  {
   "cell_type": "code",
   "execution_count": 21,
   "metadata": {},
   "outputs": [],
   "source": [
    "grouped = facts_dummies.groupby(dependent_var_name) \n",
    "\n",
    "dic_mannwhitneyu = {}\n",
    "for var in continuous_varnames: \n",
    "    group1, group2 = [group[1].dropna() for group in grouped[var]]\n",
    "    try:\n",
    "        dic_mannwhitneyu[var] = stats.mannwhitneyu(group1, group2).pvalue\n",
    "    except ValueError:\n",
    "        dic_mannwhitneyu[var] = np.NaN"
   ]
  },
  {
   "cell_type": "markdown",
   "metadata": {},
   "source": [
    "#### Qualitative variables: Fisher Exact test"
   ]
  },
  {
   "cell_type": "code",
   "execution_count": 22,
   "metadata": {},
   "outputs": [],
   "source": [
    "dummy_categorical_varnames = variablesDict.loc[variablesDict[\"varName\"].isin(categorical_varnames),:]\\\n",
    "[\"dummies_varName\"].values[:500]"
   ]
  },
  {
   "cell_type": "code",
   "execution_count": 23,
   "metadata": {},
   "outputs": [
    {
     "name": "stderr",
     "output_type": "stream",
     "text": [
      " 10%|█         | 28/279 [00:03<00:30,  8.31it/s]"
     ]
    },
    {
     "name": "stdout",
     "output_type": "stream",
     "text": [
      "skipping nan\n",
      "skipping nan\n"
     ]
    },
    {
     "name": "stderr",
     "output_type": "stream",
     "text": [
      " 18%|█▊        | 51/279 [00:03<00:10, 21.07it/s]"
     ]
    },
    {
     "name": "stdout",
     "output_type": "stream",
     "text": [
      "skipping nan\n"
     ]
    },
    {
     "name": "stderr",
     "output_type": "stream",
     "text": [
      " 25%|██▌       | 71/279 [00:05<00:09, 22.80it/s]"
     ]
    },
    {
     "name": "stdout",
     "output_type": "stream",
     "text": [
      "skipping nan\n"
     ]
    },
    {
     "name": "stderr",
     "output_type": "stream",
     "text": [
      " 51%|█████▏    | 143/279 [00:12<00:05, 23.15it/s]"
     ]
    },
    {
     "name": "stdout",
     "output_type": "stream",
     "text": [
      "skipping nan\n",
      "skipping nan\n"
     ]
    },
    {
     "name": "stderr",
     "output_type": "stream",
     "text": [
      " 59%|█████▉    | 165/279 [00:13<00:07, 15.23it/s]"
     ]
    },
    {
     "name": "stdout",
     "output_type": "stream",
     "text": [
      "skipping nan\n"
     ]
    },
    {
     "name": "stderr",
     "output_type": "stream",
     "text": [
      " 61%|██████▏   | 171/279 [00:14<00:09, 11.66it/s]"
     ]
    },
    {
     "name": "stdout",
     "output_type": "stream",
     "text": [
      "skipping nan\n"
     ]
    },
    {
     "name": "stderr",
     "output_type": "stream",
     "text": [
      " 62%|██████▏   | 173/279 [00:14<00:14,  7.24it/s]"
     ]
    },
    {
     "name": "stdout",
     "output_type": "stream",
     "text": [
      "skipping nan\n"
     ]
    },
    {
     "name": "stderr",
     "output_type": "stream",
     "text": [
      " 64%|██████▍   | 178/279 [00:15<00:15,  6.61it/s]"
     ]
    },
    {
     "name": "stdout",
     "output_type": "stream",
     "text": [
      "skipping nan\n"
     ]
    },
    {
     "name": "stderr",
     "output_type": "stream",
     "text": [
      " 65%|██████▌   | 182/279 [00:15<00:13,  6.96it/s]"
     ]
    },
    {
     "name": "stdout",
     "output_type": "stream",
     "text": [
      "skipping nan\n"
     ]
    },
    {
     "name": "stderr",
     "output_type": "stream",
     "text": [
      " 69%|██████▉   | 192/279 [00:16<00:09,  9.06it/s]"
     ]
    },
    {
     "name": "stdout",
     "output_type": "stream",
     "text": [
      "skipping nan\n"
     ]
    },
    {
     "name": "stderr",
     "output_type": "stream",
     "text": [
      "100%|██████████| 279/279 [00:28<00:00,  9.94it/s]\n"
     ]
    }
   ],
   "source": [
    "# Fisher test for categorical variables\n",
    "from tqdm import tqdm\n",
    "dic_fisher = {}\n",
    "try:\n",
    "    for var in tqdm(dummy_categorical_varnames, position=0, leave=True):\n",
    "        if type(var) != str:\n",
    "            print(\"skipping {0}\".format(var))\n",
    "            continue\n",
    "        elif var not in facts_dummies.columns:\n",
    "            print(\"skipping {0}, not in dataframe columns\".format(var))\n",
    "            continue        \n",
    "        crosstab = pd.crosstab(facts_dummies[var], facts_dummies[dependent_var_name])\n",
    "        if crosstab.shape == (1,2):\n",
    "            dic_fisher[var] = np.NaN\n",
    "        else:\n",
    "            dic_fisher[var] = stats.fisher_exact(crosstab)[1]\n",
    "except AttributeError:\n",
    "    print(\"End of loop tqdm AttributeError catched\")"
   ]
  },
  {
   "cell_type": "markdown",
   "metadata": {},
   "source": [
    "#### Univariate test p-values distribution"
   ]
  },
  {
   "cell_type": "code",
   "execution_count": 24,
   "metadata": {},
   "outputs": [
    {
     "data": {
      "text/plain": [
       "Text(0.5, 0.98, 'Distribution of individual p-values for Mann-Whintey U test')"
      ]
     },
     "execution_count": 24,
     "metadata": {},
     "output_type": "execute_result"
    },
    {
     "data": {
      "image/png": "[encoded data removed]",
      "text/plain": [
       "<Figure size 1008x576 with 1 Axes>"
      ]
     },
     "metadata": {
      "needs_background": "light"
     },
     "output_type": "display_data"
    }
   ],
   "source": [
    "pd.Series([v for v in dic_mannwhitneyu.values()]).plot.hist(bins=30)\n",
    "plt.suptitle(\"Distribution of individual p-values for Mann-Whintey U test\",\n",
    "             weight=\"bold\",\n",
    "            fontsize=15)"
   ]
  },
  {
   "cell_type": "code",
   "execution_count": 25,
   "metadata": {},
   "outputs": [
    {
     "data": {
      "text/plain": [
       "Text(0.5, 0.98, 'Distribution of individual p-values for Fisher association test')"
      ]
     },
     "execution_count": 25,
     "metadata": {},
     "output_type": "execute_result"
    },
    {
     "data": {
      "image/png": "[encoded data removed]",
      "text/plain": [
       "<Figure size 1008x576 with 1 Axes>"
      ]
     },
     "metadata": {
      "needs_background": "light"
     },
     "output_type": "display_data"
    }
   ],
   "source": [
    "pd.Series([v for v in dic_fisher.values()]).plot.hist(bins=20)\n",
    "plt.suptitle(\"Distribution of individual p-values for Fisher association test\", \n",
    "             size=30,\n",
    "             weight=\"bold\",\n",
    "            fontsize=15)"
   ]
  },
  {
   "cell_type": "markdown",
   "metadata": {},
   "source": [
    "### 5. Multiple hypotheses testing correction: Bonferroni Method"
   ]
  },
  {
   "cell_type": "markdown",
   "metadata": {},
   "source": [
    "In order to handle the multiple comparison issue (increase in the probability to \"discover\" false statistical associations, because of the number of tests performed), we will use the Bonferroni correction method. Although many other multiple comparison exist, Bonferroni is the most straightforward to use, because it doesn't require assumptions about variables correlation. Other PheWAS analysis also use False Discovery Rate controlling procedures ([see](https://en.wikipedia.org/wiki/False_discovery_rate))."
   ]
  },
  {
   "cell_type": "markdown",
   "metadata": {},
   "source": [
    "In a nutshell, Bonferonni allows to calculate a corrected \"statistical significant threshold\" according to the number of test performed. Every p-value below this threshold will be deemed statistically significant."
   ]
  },
  {
   "cell_type": "code",
   "execution_count": 26,
   "metadata": {},
   "outputs": [],
   "source": [
    "# Merging pvalues from different tests\n",
    "dic_pvalues = {**dic_mannwhitneyu, **dic_fisher}\n",
    "df_pvalues = pd.DataFrame.from_dict(dic_pvalues, orient=\"index\", columns=[\"pvalues\"])\\\n",
    ".rename_axis(\"dummies_varName\")\\\n",
    ".reset_index(drop=False)\n",
    "\n",
    "# Adding pvalues results as a new column to variablesDict\n",
    "variablesDict = joining_variablesTable_onCol(variablesDict,\n",
    "                                              df_pvalues,\n",
    "                                              left_col=\"dummies_varName\",\n",
    "                                              right_col=\"dummies_varName\")"
   ]
  },
  {
   "cell_type": "code",
   "execution_count": 27,
   "metadata": {},
   "outputs": [],
   "source": [
    "adjusted_alpha = 0.05/len(variablesDict[\"pvalues\"])\n",
    "variablesDict[\"p_adj\"] = variablesDict[\"pvalues\"] / len(variablesDict[\"pvalues\"])"
   ]
  },
  {
   "cell_type": "code",
   "execution_count": 28,
   "metadata": {},
   "outputs": [
    {
     "name": "stderr",
     "output_type": "stream",
     "text": [
      "/Users/Arnaud/miniconda3/envs/dbmi_jupyterhub/lib/python3.6/site-packages/pandas/core/series.py:856: RuntimeWarning: divide by zero encountered in log10\n",
      "  result = getattr(ufunc, method)(*inputs, **kwargs)\n"
     ]
    }
   ],
   "source": [
    "variablesDict['log_p'] = -np.log10(variablesDict['pvalues'])"
   ]
  },
  {
   "cell_type": "code",
   "execution_count": 29,
   "metadata": {},
   "outputs": [],
   "source": [
    "pd.set_option('expand_frame_repr', False)"
   ]
  },
  {
   "cell_type": "code",
   "execution_count": 30,
   "metadata": {},
   "outputs": [],
   "source": [
    "variablesDict = variablesDict.sort_index()\n",
    "variablesDict[\"group\"] = variablesDict.reset_index(level=1)[\"level_1\"].values"
   ]
  },
  {
   "cell_type": "markdown",
   "metadata": {},
   "source": [
    "## 6. Result visualisations: Manhattan plot"
   ]
  },
  {
   "cell_type": "markdown",
   "metadata": {},
   "source": [
    "Manhattan plot is the classical results representation of a PheWAS analysis. It plots every each tested phenotypical variables on the X-axis, against its *-log(pvalue)* on the Y-axis. The horizontal line represent the adjusted significance level threshold."
   ]
  },
  {
   "cell_type": "code",
   "execution_count": 31,
   "metadata": {},
   "outputs": [
    {
     "data": {
      "image/png": "[encoded data removed]",
      "text/plain": [
       "<Figure size 1008x576 with 1 Axes>"
      ]
     },
     "metadata": {
      "needs_background": "light"
     },
     "output_type": "display_data"
    }
   ],
   "source": [
    "mask = variablesDict[\"pvalues\"].isna()\n",
    "df_results = variablesDict.loc[~mask,:].copy().replace([np.inf, -np.inf], np.nan)\n",
    "df_results[\"ind\"] = np.arange(1, len(df_results)+1)\n",
    "df_grouped = df_results.groupby(('group'))\n",
    "\n",
    "# print(df_grouped.head(10))\n",
    "\n",
    "fig = plt.figure()\n",
    "ax = fig.add_subplot(111)\n",
    "colors = plt.get_cmap('Set1')\n",
    "x_labels = []\n",
    "x_labels_pos = []\n",
    "\n",
    "y_lims = (0,\n",
    "          df_results[\"log_p\"].max(skipna=True) + 20)\n",
    "threshold_top_values = df_results[\"log_p\"].sort_values(ascending=False)[0:6][-1]\n",
    "\n",
    "for num, (name, group) in enumerate(df_grouped):\n",
    "        group.plot(kind='scatter', x='ind', y='log_p',color=colors.colors[num % len(colors.colors)], ax=ax, s=20)\n",
    "        x_labels.append(name)\n",
    "        x_labels_pos.append((group['ind'].iloc[-1] - (group['ind'].iloc[-1] - group['ind'].iloc[0])/2)) # Set label in the middle\n",
    "        \n",
    "        pair_ind = 0 # To shift label which might overlap because to close\n",
    "        for n, row in group.iterrows():\n",
    "            if pair_ind %2 == 0:\n",
    "                shift = 1.1\n",
    "            else:\n",
    "                shift = -1.1\n",
    "            if row[\"log_p\"] > threshold_top_values:\n",
    "                ax.text(row['ind'] + 3, row[\"log_p\"] + 0.05 + shift, row[\"simplified_varName\"], rotation=0, alpha=1, size=8, color=\"black\")\n",
    "                pair_ind += 1\n",
    "                \n",
    "ax.set_xticks(x_labels_pos)\n",
    "ax.set_xticklabels(x_labels)\n",
    "ax.set_xlim([0, len(df_results) +1])\n",
    "ax.set_ylim(y_lims)\n",
    "ax.set_ylabel('-log(p-values)', style=\"italic\")\n",
    "ax.set_xlabel('Phenotypes')\n",
    "ax.axhline(y=-np.log10(adjusted_alpha), linestyle=\":\", color=\"black\")\n",
    "plt.xticks(fontsize = 8,rotation=90)\n",
    "plt.yticks(fontsize = 8)\n",
    "plt.title(\"Statistical association between studied allele and phenotypes\", \n",
    "          loc=\"center\",\n",
    "          style=\"oblique\", \n",
    "          fontsize = 20,\n",
    "         y=1)\n",
    "xticks = ax.xaxis.get_major_ticks()\n",
    "xticks[0].set_visible(False)\n",
    "\n",
    "plt.show()"
   ]
  },
  {
   "cell_type": "markdown",
   "metadata": {},
   "source": [
    "Overall, it appears that most of the tested phenotypes covariates are above the adjusted threshold of significant association. However, it is not surprising at all, given the nature of our dependent variable: a lot of those variables are by nature tied directly to the COPD status."
   ]
  },
  {
   "cell_type": "markdown",
   "metadata": {},
   "source": [
    "This code can be used directly with any other variable present in the variable Dictionary. It only need to change the `dependent_var_name` value."
   ]
  }
 ],
 "metadata": {
  "kernelspec": {
   "display_name": "Python 3.6",
   "language": "python",
   "name": "dbmi_jupyterhub"
  },
  "language_info": {
   "codemirror_mode": {
    "name": "ipython",
    "version": 3
   },
   "file_extension": ".py",
   "mimetype": "text/x-python",
   "name": "python",
   "nbconvert_exporter": "python",
   "pygments_lexer": "ipython3",
   "version": "3.6.9"
  }
 },
 "nbformat": 4,
 "nbformat_minor": 4
}
