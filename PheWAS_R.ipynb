{
 "cells": [
  {
   "cell_type": "markdown",
   "metadata": {},
   "source": [
    "# Phenome-Wide analysis on COPDgene data: R PIC-SURE API use-case"
   ]
  },
  {
   "cell_type": "markdown",
   "metadata": {},
   "source": [
    "This notebook is an illustration example of how to use the R **PIC-SURE API** to select and query data from an HPDS-hosted database. It takes as use-case a simple PheWAS analysis. This notebook is intentionally straightforward, without too much explanation. For a more step-by-step introduction to the R PIC-SURE API, see the `R_PICSURE-API_101_PheWAS_example.ipynb` Notebook."
   ]
  },
  {
   "cell_type": "markdown",
   "metadata": {},
   "source": [
    "**Before running this notebook, please be sure to get an user-specific security token. For more information on how to proceed, see the `HPDS_connection.ipynb` notebook**"
   ]
  },
  {
   "cell_type": "markdown",
   "metadata": {},
   "source": [
    "# Environment set-up"
   ]
  },
  {
   "cell_type": "markdown",
   "metadata": {},
   "source": [
    "### Environment pre-requisite\n",
    "- R 3.5 or later"
   ]
  },
  {
   "cell_type": "code",
   "execution_count": null,
   "metadata": {},
   "outputs": [],
   "source": [
    "list_packages <- c(\"jsonlite\", \n",
    "                   \"ggplot2\",\n",
    "                   \"plyr\",\n",
    "                   \"dplyr\",\n",
    "                   \"tidyr\",\n",
    "                   \"purrr\",\n",
    "                   \"stringr\",\n",
    "                   \"ggrepel\",\n",
    "                   \"devtools\")\n",
    "\n",
    "for (package in list_packages){\n",
    "     if(! package %in% installed.packages()){\n",
    "         install.packages(package, dependencies = TRUE, \n",
    "                         character.only = TRUE)\n",
    "     }\n",
    "     library(package, character.only = TRUE)\n",
    "}"
   ]
  },
  {
   "cell_type": "markdown",
   "metadata": {},
   "source": [
    "Installing R PIC-SURE API packages"
   ]
  },
  {
   "cell_type": "code",
   "execution_count": null,
   "metadata": {},
   "outputs": [],
   "source": [
    "devtools::install_github(\"hms-dbmi/pic-sure-r-client\")\n",
    "devtools::install_github(\"hms-dbmi/pic-sure-r-adapter-hpds\")"
   ]
  },
  {
   "cell_type": "markdown",
   "metadata": {},
   "source": [
    "#### Loading user-defined functions"
   ]
  },
  {
   "cell_type": "code",
   "execution_count": null,
   "metadata": {},
   "outputs": [],
   "source": [
    "source(\"R_lib/utils.R\")"
   ]
  },
  {
   "cell_type": "markdown",
   "metadata": {},
   "source": [
    "## Connection to COPDgenes database"
   ]
  },
  {
   "cell_type": "code",
   "execution_count": null,
   "metadata": {},
   "outputs": [],
   "source": [
    "credentials_dic = jsonlite::read_json(\"dic_resources.json\")"
   ]
  },
  {
   "cell_type": "code",
   "execution_count": null,
   "metadata": {},
   "outputs": [],
   "source": [
    "credentials = credentials_dic[[\"copd\"]]"
   ]
  },
  {
   "cell_type": "code",
   "execution_count": null,
   "metadata": {},
   "outputs": [],
   "source": [
    "token <- TokenManager(credentials[[\"token_file\"]])"
   ]
  },
  {
   "cell_type": "code",
   "execution_count": null,
   "metadata": {},
   "outputs": [],
   "source": [
    "myconnection <- picsure::connect(url = credentials[[\"url\"]],\n",
    "                                 token = token)"
   ]
  },
  {
   "cell_type": "code",
   "execution_count": null,
   "metadata": {},
   "outputs": [],
   "source": [
    "resource <- hpds::get.resource(myconnection,\n",
    "                               resourceUUID = credentials[[\"resource\"]])"
   ]
  },
  {
   "cell_type": "markdown",
   "metadata": {},
   "source": [
    "## PheWAS analysis"
   ]
  },
  {
   "cell_type": "markdown",
   "metadata": {},
   "source": [
    "In a nutshell, this PheWAS analysis consists of two main steps:\n",
    "- Running univariate tests again every phenotypes variable\n",
    "- Adjusting for multiple testing issue\n",
    "\n",
    "In this example, we will select every phenotype variables available in the Dictionary, except for the variables pertaining to the \"Sub-study ESP LungGO COPDGene\" category (very small and specific population as compared to the COPDGene one)."
   ]
  },
  {
   "cell_type": "markdown",
   "metadata": {},
   "source": [
    "### 1. Retrieving variable dictionary from HPDS Database"
   ]
  },
  {
   "cell_type": "code",
   "execution_count": null,
   "metadata": {},
   "outputs": [],
   "source": [
    "all_variables <- hpds::find.in.dictionary(resource)"
   ]
  },
  {
   "cell_type": "code",
   "execution_count": null,
   "metadata": {},
   "outputs": [],
   "source": [
    "variablesDict <- hpds::extract.dataframe(all_variables)\n",
    "variablesDict <- variablesDict[order(variablesDict[\"name\"]),]"
   ]
  },
  {
   "cell_type": "code",
   "execution_count": null,
   "metadata": {},
   "outputs": [],
   "source": [
    "head(variablesDict[[\"name\"]])"
   ]
  },
  {
   "cell_type": "code",
   "execution_count": null,
   "metadata": {},
   "outputs": [],
   "source": [
    "## Parse variables names\n",
    "library(\"stringr\")\n",
    "library(\"dplyr\")\n",
    "\n",
    "get_multiIndex <- function(variablesDict) {\n",
    "    splitted <- gsub(\"^\\\\\\\\\", \"\", variablesDict[[\"name\"]]) %>% \n",
    "        strsplit(\"\\\\\\\\\") \n",
    "    multiIndex <- lapply(splitted, function(x) {\n",
    "        names(x) <- paste(\"level\", 1:length(x))\n",
    "        return(x)\n",
    "    }) %>% do.call(dplyr::bind_rows, .)\n",
    "    multiIndex[[\"name\"]] <- variablesDict[[\"name\"]]\n",
    "    multiIndex[[\"simplified_name\"]] <- sapply(splitted, function(x) x[length(x)])\n",
    "    return(multiIndex)\n",
    "}"
   ]
  },
  {
   "cell_type": "code",
   "execution_count": null,
   "metadata": {},
   "outputs": [],
   "source": [
    "multiIndex <- get_multiIndex(variablesDict)\n",
    "head(multiIndex)"
   ]
  },
  {
   "cell_type": "code",
   "execution_count": null,
   "metadata": {},
   "outputs": [],
   "source": [
    "head(variablesDict)"
   ]
  },
  {
   "cell_type": "markdown",
   "metadata": {},
   "source": [
    "### 2. Selecting variables and retrieving data from HPDS"
   ]
  },
  {
   "cell_type": "code",
   "execution_count": null,
   "metadata": {},
   "outputs": [],
   "source": [
    "mask_pheno = variablesDict[\"HpdsDataType\"] == \"phenotypes\"\n",
    "mask_substudy = multiIndex[1] != \"Sub-study ESP LungGO COPDGene\"\n",
    "mask_vars = mask_pheno & mask_substudy\n",
    "selected_vars = variablesDict[mask_vars, \"name\"]"
   ]
  },
  {
   "cell_type": "code",
   "execution_count": null,
   "metadata": {},
   "outputs": [],
   "source": [
    "my_query = hpds::new.query(resource = resource)\n",
    "hpds::query.select.add(query = my_query, \n",
    "                      keys = selected_vars)\n",
    "facts = hpds::query.run(query = my_query, result.type = \"dataframe\")"
   ]
  },
  {
   "cell_type": "code",
   "execution_count": null,
   "metadata": {},
   "outputs": [],
   "source": [
    "variablesDict[\"name\"]"
   ]
  },
  {
   "cell_type": "markdown",
   "metadata": {},
   "source": [
    "### Data-management"
   ]
  },
  {
   "cell_type": "markdown",
   "metadata": {},
   "source": [
    "##### Since variable names are not the same between the variable dictionary and the dataframe columns, a temporary workaround is needed: parsing variables names from variablesDict to match those retrieved from the database"
   ]
  },
  {
   "cell_type": "code",
   "execution_count": null,
   "metadata": {},
   "outputs": [],
   "source": [
    "variablesDict[[\"df_name\"]] <- parsing_varNames(variablesDict[[\"name\"]])\n",
    "multiIndex[[\"df_name\"]] <- variablesDict[[\"df_name\"]]"
   ]
  },
  {
   "cell_type": "code",
   "execution_count": null,
   "metadata": {},
   "outputs": [],
   "source": [
    "checking_parsing(names(facts)[-1], variablesDict[mask_vars, \"df_name\"])"
   ]
  },
  {
   "cell_type": "markdown",
   "metadata": {},
   "source": [
    "#### Selecting variables regarding their types"
   ]
  },
  {
   "cell_type": "markdown",
   "metadata": {},
   "source": [
    "One important step in a PheWAS is to get the distinction between categorical and numerical variables. This distinction is straightforward using the variables dictionary."
   ]
  },
  {
   "cell_type": "code",
   "execution_count": null,
   "metadata": {},
   "outputs": [],
   "source": [
    "mask_categories <- variablesDict[, \"categorical\"] == TRUE\n",
    "categorical_varnames <- variablesDict[mask_categories & mask_vars, \"df_name\"]\n",
    "continuous_varnames <- variablesDict[!mask_categories & mask_vars, \"df_name\"]"
   ]
  },
  {
   "cell_type": "markdown",
   "metadata": {},
   "source": [
    "### Selecting the dependent variable to study\n",
    "Most of PheWAS use a genetic variant as the variable used to separate the population between cases and controls. But the population doesn't have to be dichotomized using a genetic variant, and any phenotypic variable could be used (see for example [*Neuraz et al.*, 2013](https://journals.plos.org/ploscompbiol/article?id=10.1371/journal.pcbi.1003405)). \n",
    "\n",
    "Here we will use the presence or absence of a COPD diagnosis as the variable to dichotomize the population in our subsequent analysis."
   ]
  },
  {
   "cell_type": "code",
   "execution_count": null,
   "metadata": {},
   "outputs": [],
   "source": [
    "dependent_var_name <- multiIndex[multiIndex[[\"simplified_name\"]] == \"00 Affection status\",][[\"df_name\"]]\n",
    "categorical_varnames <- categorical_varnames[-which(categorical_varnames == dependent_var_name)]"
   ]
  },
  {
   "cell_type": "code",
   "execution_count": null,
   "metadata": {},
   "outputs": [],
   "source": [
    "table(facts[[dependent_var_name]])"
   ]
  },
  {
   "cell_type": "markdown",
   "metadata": {},
   "source": [
    "Then we subset our population regarding the relevant values for the COPD diagnosis variable (i.e. keeping \"Case\" and \"Control\" individuals, thus discarding \"Other\", \"Control, Exclusionary Disease\", and null values)."
   ]
  },
  {
   "cell_type": "code",
   "execution_count": null,
   "metadata": {},
   "outputs": [],
   "source": [
    "mask_dependent_var_name = facts[[dependent_var_name]] %in% c(\"Case\", \"Control\")"
   ]
  },
  {
   "cell_type": "code",
   "execution_count": null,
   "metadata": {},
   "outputs": [],
   "source": [
    "facts <- facts[mask_dependent_var_name,]"
   ]
  },
  {
   "cell_type": "code",
   "execution_count": null,
   "metadata": {},
   "outputs": [],
   "source": [
    "count_case_control <- table(facts[[dependent_var_name]])"
   ]
  },
  {
   "cell_type": "code",
   "execution_count": null,
   "metadata": {},
   "outputs": [],
   "source": [
    "sprintf(\"Control: %i individuals\\nCase: %i individuals\",\n",
    "        count_case_control[\"Control\"],\n",
    "        count_case_control[\"Case\"]) %>% cat()"
   ]
  },
  {
   "cell_type": "markdown",
   "metadata": {},
   "source": [
    "### Univariate statistical tests"
   ]
  },
  {
   "cell_type": "code",
   "execution_count": null,
   "metadata": {},
   "outputs": [],
   "source": [
    "## Unified univariate tests\n",
    "### Significance of association tests are retrieved from the p-values of a Likelihood ratio test\n",
    "anova_model <- function(data, dependent_var, independent_var) {\n",
    "    model <- glm(as.formula(paste(dependent_var, \"~ 1 +\", independent_var)),\n",
    "                 data = data,\n",
    "                 family = binomial(link=\"logit\"))\n",
    "    model_reduced <- glm(as.formula(paste(dependent_var, \"~ 1\")),\n",
    "                         data = data,\n",
    "                         family = binomial(link=\"logit\"))\n",
    "    p_val <- anova(model, model_reduced, test =  \"LRT\")[2, \"Pr(>Chi)\"]\n",
    "    return(p_val)    \n",
    "}"
   ]
  },
  {
   "cell_type": "code",
   "execution_count": null,
   "metadata": {},
   "outputs": [],
   "source": [
    "independent_var_names = c(categorical_varnames, continuous_varnames)"
   ]
  },
  {
   "cell_type": "code",
   "execution_count": null,
   "metadata": {},
   "outputs": [],
   "source": [
    "pvalues_list = list()\n",
    "error_list =  list()\n",
    "warning_list = list()\n",
    "## Errors storing is not working yet, get back to it later\n",
    "for (independent_var_name in independent_var_names) {\n",
    "    data <- na.omit(facts[,c(dependent_var_name, independent_var_name)])\n",
    "    tryCatch({\n",
    "                pvalues_list[[independent_var_name]] <- anova_model(data, dependent_var_name, independent_var_name)\n",
    "#                error_list[[independent_var_name]] <- NA\n",
    " #               warning_list[[independent_var_name]] <- NA\n",
    "    },\n",
    "             error = function(e) {\n",
    "                print(paste(\"error\", independent_var_name))\n",
    "                pvalues_list[[independent_var_name]] <- NA\n",
    "                error_list[[independent_var_name]] <- e\n",
    "                warning_list[[independent_var_name]] <- NA\n",
    "             },\n",
    "             warning = function(w) {\n",
    "                print(paste(\"warning\", independent_var_name))\n",
    "\n",
    "                pvalues_list[[independent_var_name]] <- NA\n",
    "                error_list[[independent_var_name]] <- NA\n",
    "                warning_list[[independent_var_name]] <- w                 \n",
    "             }\n",
    "        )\n",
    "}"
   ]
  },
  {
   "cell_type": "code",
   "execution_count": null,
   "metadata": {},
   "outputs": [],
   "source": [
    "df_pvalues <- data.frame(\n",
    "    \"df_name\" = names(pvalues_list),\n",
    "    \"pvalues\" = simplify(unname(pvalues_list)), \n",
    "    stringsAsFactors = F\n",
    ")"
   ]
  },
  {
   "cell_type": "code",
   "execution_count": null,
   "metadata": {},
   "outputs": [],
   "source": [
    "df_pvalues[[\"log_pvalues\"]] <- -log10(df_pvalues$pvalues)"
   ]
  },
  {
   "cell_type": "code",
   "execution_count": null,
   "metadata": {
    "scrolled": true
   },
   "outputs": [],
   "source": [
    "multiIndex_enhanced <- dplyr::left_join(multiIndex, df_pvalues, by=\"df_name\")\n",
    "variablesDict_enhanced <- dplyr::left_join(variablesDict, df_pvalues, by=\"df_name\")"
   ]
  },
  {
   "cell_type": "code",
   "execution_count": null,
   "metadata": {},
   "outputs": [],
   "source": [
    "variablesDict_enhanced"
   ]
  },
  {
   "cell_type": "markdown",
   "metadata": {},
   "source": [
    "### Results visualization"
   ]
  },
  {
   "cell_type": "markdown",
   "metadata": {},
   "source": [
    "#### Univariate tests distribution"
   ]
  },
  {
   "cell_type": "code",
   "execution_count": null,
   "metadata": {},
   "outputs": [],
   "source": [
    "ggplot(aes_string(x = \"pvalues\", \n",
    "                 fill = \"categorical\"),\n",
    "       data = variablesDict_enhanced) +\n",
    "geom_histogram(bins=20, position = \"dodge\") +\n",
    "scale_fill_brewer(palette='Paired') + \n",
    "labs(title = \"Distribution of non-adjusted p-values among tested phenotypes \", \n",
    "    subtitle = expression(italic(\"Likelihood Ratio Test\"))) +\n",
    "xlab(\"Unadjusted p-values\") +\n",
    "ylab(\"Count\") +\n",
    "theme_bw()"
   ]
  },
  {
   "cell_type": "markdown",
   "metadata": {},
   "source": [
    "#### Multiple hypotheses testing correction: Bonferroni Method"
   ]
  },
  {
   "cell_type": "markdown",
   "metadata": {},
   "source": [
    "In order to handle the multiple comparison issue (increase in the probability to \"discover\" false statistical associations, because of the number of tests performed), we will use the Bonferroni correction method. Although many other multiple comparison exist, Bonferroni is the most straightforward to use, because it doesn't require assumptions about variables correlation. Other PheWAS analysis also use False Discovery Rate controlling procedures ([see](https://en.wikipedia.org/wiki/False_discovery_rate))."
   ]
  },
  {
   "cell_type": "markdown",
   "metadata": {},
   "source": [
    "In a nutshell, Bonferonni allows to calculate a corrected \"statistical significant threshold\" according to the number of test performed. Every p-value below this threshold will be deemed statistically significant."
   ]
  },
  {
   "cell_type": "code",
   "execution_count": null,
   "metadata": {},
   "outputs": [],
   "source": [
    "variablesDict_enhanced$adj_pvalues <- p.adjust(variablesDict_enhanced$pvalues, method=\"bonferroni\")"
   ]
  },
  {
   "cell_type": "code",
   "execution_count": null,
   "metadata": {},
   "outputs": [],
   "source": [
    "variablesDict_enhanced$log_adj_pvalues <- -log10(variablesDict_enhanced$adj_pvalues)"
   ]
  },
  {
   "cell_type": "markdown",
   "metadata": {},
   "source": [
    "## Manhattan plot"
   ]
  },
  {
   "cell_type": "markdown",
   "metadata": {},
   "source": [
    "#### Preparing data"
   ]
  },
  {
   "cell_type": "code",
   "execution_count": null,
   "metadata": {},
   "outputs": [],
   "source": [
    "corrected_alpha <- 0.05/length(variablesDict_enhanced$pvalues) # Using Bonferonni method\n",
    "adj_corrected_alpha <- -log10(corrected_alpha)"
   ]
  },
  {
   "cell_type": "code",
   "execution_count": null,
   "metadata": {},
   "outputs": [],
   "source": [
    "non_nan <- which(!is.na(variablesDict_enhanced$pvalues))\n",
    "plot_df <- multiIndex_enhanced[non_nan, ]\n",
    "plot_df$df_name <- as.factor(plot_df$df_name)\n",
    "plot_df$log_pvalues <- round(plot_df$log_pvalues, 5)\n",
    "\n",
    "plot_df = multiIndex[, c(\"df_name\", \"level 2\")] %>% \n",
    "plyr::rename(replace = c(\"level 2\" = \"category\")) %>%\n",
    "right_join(plot_df, by=\"df_name\")\n",
    "\n",
    "plot_df <- plot_df[order(plot_df$category),]\n",
    "plot_df$category <- factor(plot_df$category)\n",
    "plot_df$name <- factor(plot_df$name, levels=plot_df$name[order(plot_df$category)])"
   ]
  },
  {
   "cell_type": "code",
   "execution_count": null,
   "metadata": {},
   "outputs": [],
   "source": [
    "get_breaks <- function(plot_df) {\n",
    "    number_rows <- nrow(plot_df)\n",
    "    plot_df$row_num <- 1:number_rows\n",
    "    plot_df$center <- NA\n",
    "    for (cat in unique(plot_df$category)) {\n",
    "        mask <- plot_df$category == cat\n",
    "        mask[is.na(mask)] <- F\n",
    "        center = mean(plot_df[mask, ][[\"row_num\"]]) %>% round(0)\n",
    "\n",
    "        plot_df[mask, \"center\"] <- center\n",
    "    }\n",
    "    return(plot_df)\n",
    "}\n",
    "plot_df <- get_breaks(plot_df)"
   ]
  },
  {
   "cell_type": "code",
   "execution_count": null,
   "metadata": {},
   "outputs": [],
   "source": [
    "# Selecting 4 largest p-values, to be annotated in the Manatthan plot\n",
    "\n",
    "largest_pvalues_indices <- order(plot_df[[\"log_pvalues\"]], decreasing=T)[1:4]\n",
    "plot_df$to_annotate <- \"no\"\n",
    "plot_df[largest_pvalues_indices, \"to_annotate\"] <- \"yes\""
   ]
  },
  {
   "cell_type": "code",
   "execution_count": null,
   "metadata": {},
   "outputs": [],
   "source": [
    "# Suppressing Inf log(p-values)\n",
    "plot_df <- plot_df[plot_df$log_pvalues != Inf,]"
   ]
  },
  {
   "cell_type": "markdown",
   "metadata": {},
   "source": [
    "#### Plotting the data"
   ]
  },
  {
   "cell_type": "code",
   "execution_count": null,
   "metadata": {},
   "outputs": [],
   "source": [
    "options(repr.plot.width=12, repr.plot.height=8)"
   ]
  },
  {
   "cell_type": "code",
   "execution_count": null,
   "metadata": {},
   "outputs": [],
   "source": [
    "my_theme <- theme_bw() + \n",
    "theme(axis.title.y = element_text(face=\"italic\", size=15),\n",
    "      title = element_text(size=20),\n",
    "      axis.title.x = element_text(size=15),\n",
    "      axis.text.x = element_text(angle=35, hjust=1),\n",
    "      legend.position = \"none\",\n",
    "      panel.grid.major.x = element_blank()\n",
    "      )\n"
   ]
  },
  {
   "cell_type": "code",
   "execution_count": null,
   "metadata": {},
   "outputs": [],
   "source": [
    "paired_colors <- c(\"navyblue\", \"lightskyblue\")"
   ]
  },
  {
   "cell_type": "code",
   "execution_count": null,
   "metadata": {},
   "outputs": [],
   "source": [
    "# Manatthan plot using geom_jitter --> more suitable when number of point per category is enough\n",
    "ggplot(plot_df, aes(x=category, y=log_pvalues)) +\n",
    "geom_jitter(alpha=1, aes_string(colour=\"category\"), \n",
    "           width=0.5,\n",
    "           size=3) +\n",
    "geom_hline(yintercept=adj_corrected_alpha, linetype=\"dashed\") +\n",
    "scale_y_continuous(expand = c(0, 0) ) +\n",
    "scale_color_manual(values = rep(paired_colors, times=20)) +\n",
    "geom_label_repel( data=subset(plot_df, to_annotate==\"yes\"), aes(label=simplified_name), size=3.5) +\n",
    "labs(title=\"Association between phenotypes variables and gene mutation (COPD status)\", \n",
    "    x=\"Phenotypes\", \n",
    "    y=\"- log10(p-values)\",\n",
    "    colour=\"Phenotypes categories\") +\n",
    "my_theme\n",
    "\n"
   ]
  },
  {
   "cell_type": "code",
   "execution_count": null,
   "metadata": {},
   "outputs": [],
   "source": [
    "# Manatthan plot using geom_point --> workaround when not that much points\n",
    "manatthan_theme <- theme_bw() + \n",
    "theme(axis.title.y = element_text(face=\"italic\", size=15),\n",
    "      title = element_text(size=20),\n",
    "      axis.title.x = element_text(size=15),\n",
    "      axis.text.x = element_text(angle=60, hjust=1, size= 10),\n",
    "      legend.position = \"none\",\n",
    "      panel.grid.major.x = element_blank()\n",
    "      )\n",
    "\n",
    "ggplot(plot_df, aes(x=row_num, y=log_pvalues)) +\n",
    "geom_point(alpha=1,\n",
    "           aes_string(colour=\"category\"),\n",
    "           size=3) +\n",
    "geom_hline(yintercept=adj_corrected_alpha, linetype=\"dashed\") +\n",
    "scale_y_continuous(expand = c(0, 0) ) +\n",
    "scale_color_manual(values = rep(paired_colors, times=20)) +\n",
    "geom_label_repel( data=subset(plot_df, to_annotate==\"yes\"), aes(label=simplified_name), size=3.5) +\n",
    "labs(title=\"Association between phenotypes variables and gene mutation (COPD status)\", \n",
    "    x=\"Phenotypes\", \n",
    "    y=\"- log10(p-values)\",\n",
    "    colour=\"Phenotypes categories\") +\n",
    "manatthan_theme +\n",
    "scale_x_discrete(limits=unique(plot_df$center), labels=unique(plot_df$category))"
   ]
  },
  {
   "cell_type": "markdown",
   "metadata": {},
   "source": [
    "Overall, it appears that most of the tested phenotypes covariates are above the adjusted threshold of significant association. However, it is not surprising at all, given the nature of our dependent variable: a lot of those variables are by nature tied directly to the COPD status. For instance, the 4 highest p-values (distance walked in feet, nebulizer for inhaled medication, too breathless to leave the house) are direct consequences of COPD disease."
   ]
  },
  {
   "cell_type": "markdown",
   "metadata": {},
   "source": [
    "This code can be used directly with any other variable present in the variable Dictionary. It only need to change the `dependent_var_name` value."
   ]
  }
 ],
 "metadata": {
  "kernelspec": {
   "display_name": "R",
   "language": "R",
   "name": "ir"
  },
  "language_info": {
   "codemirror_mode": "r",
   "file_extension": ".r",
   "mimetype": "text/x-r-source",
   "name": "R",
   "pygments_lexer": "r",
   "version": "3.6.1"
  }
 },
 "nbformat": 4,
 "nbformat_minor": 4
}
